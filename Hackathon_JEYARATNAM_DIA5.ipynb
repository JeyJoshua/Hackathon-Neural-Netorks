{
  "nbformat": 4,
  "nbformat_minor": 0,
  "metadata": {
    "colab": {
      "name": "Hackathon_JEYARATNAM.ipynb",
      "provenance": []
    },
    "kernelspec": {
      "name": "python3",
      "display_name": "Python 3"
    },
    "language_info": {
      "name": "python"
    },
    "accelerator": "GPU"
  },
  "cells": [
    {
      "cell_type": "markdown",
      "source": [
        "#Hackathon JEYARATNAM Joshua\n",
        "Dataset 3\n"
      ],
      "metadata": {
        "id": "O0XjVnqEwCAG"
      }
    },
    {
      "cell_type": "markdown",
      "source": [
        "##Importing librairies"
      ],
      "metadata": {
        "id": "co1KZwfFwL8d"
      }
    },
    {
      "cell_type": "code",
      "execution_count": 2,
      "metadata": {
        "id": "NwjNTpGMu2K_"
      },
      "outputs": [],
      "source": [
        "try :\n",
        "  # % tensorflow_version only exists in Colab .\n",
        "  % tensorflow_version 2.x\n",
        "except Exception :\n",
        "  pass"
      ]
    },
    {
      "cell_type": "code",
      "source": [
        "from __future__ import absolute_import , division , print_function ,unicode_literals\n",
        "\n",
        "# TensorFlow and tf. keras\n",
        "import tensorflow as tf\n",
        "from tensorflow import keras\n",
        "import pandas as pd\n",
        "\n",
        "# Helper libraries \n",
        "import numpy as np\n",
        "import matplotlib . pyplot as plt"
      ],
      "metadata": {
        "id": "DfsKNv1wu71o"
      },
      "execution_count": 3,
      "outputs": []
    },
    {
      "cell_type": "markdown",
      "source": [
        "Here we import our dataset "
      ],
      "metadata": {
        "id": "UtB-gIyxwPoD"
      }
    },
    {
      "cell_type": "code",
      "source": [
        "data_train = pd.read_csv(\"php5s7Ep8_train_3.csv\",header=None)\n",
        "data_test= pd.read_csv(\"php5s7Ep8_test.csv\",header=None)\n"
      ],
      "metadata": {
        "id": "71UweSkzu--s"
      },
      "execution_count": 4,
      "outputs": []
    },
    {
      "cell_type": "code",
      "source": [
        "col_names= ['X Minimum','X Maximum','Y Minimum','Y Maximum','Pixels Areas',\n",
        "'X Perimeter','Y Perimeter','Sum of Luminosity','Minimum of Luminosity',\n",
        "'Maximum of Luminosity','Length of Conveyer','TypeOfSteel A300','TypeOfSteel A400',\n",
        "'Steel Plate Thickness','Edges Index','Empty Index','Square Index','Outside X Index',\n",
        "'Edges X Index','Edges Y Index','Outside Global Index','LogOfAreas',\n",
        "'Log X Index','Log Y Index','Orientation Index','Luminosity Index','SigmoidOfAreas','target']"
      ],
      "metadata": {
        "id": "6hY_FHPA2jWF"
      },
      "execution_count": 5,
      "outputs": []
    },
    {
      "cell_type": "code",
      "source": [
        "data_train.columns=col_names\n"
      ],
      "metadata": {
        "id": "3uohymg72qZM"
      },
      "execution_count": 6,
      "outputs": []
    },
    {
      "cell_type": "markdown",
      "source": [
        "We check de types of each input to check what we will have to modify. So in our case we have to encode the last column because it's a type object. We have to encode it because it is also our labels"
      ],
      "metadata": {
        "id": "mmzOifNOyDj8"
      }
    },
    {
      "cell_type": "code",
      "source": [
        "data_train.dtypes"
      ],
      "metadata": {
        "colab": {
          "base_uri": "https://localhost:8080/"
        },
        "id": "iAMzr5OOof8k",
        "outputId": "a06e6fba-ca21-49dd-8e03-f7e142392b24"
      },
      "execution_count": 7,
      "outputs": [
        {
          "output_type": "execute_result",
          "data": {
            "text/plain": [
              "X Minimum                  int64\n",
              "X Maximum                  int64\n",
              "Y Minimum                  int64\n",
              "Y Maximum                  int64\n",
              "Pixels Areas               int64\n",
              "X Perimeter                int64\n",
              "Y Perimeter                int64\n",
              "Sum of Luminosity          int64\n",
              "Minimum of Luminosity      int64\n",
              "Maximum of Luminosity      int64\n",
              "Length of Conveyer         int64\n",
              "TypeOfSteel A300           int64\n",
              "TypeOfSteel A400           int64\n",
              "Steel Plate Thickness      int64\n",
              "Edges Index              float64\n",
              "Empty Index              float64\n",
              "Square Index             float64\n",
              "Outside X Index          float64\n",
              "Edges X Index            float64\n",
              "Edges Y Index            float64\n",
              "Outside Global Index     float64\n",
              "LogOfAreas               float64\n",
              "Log X Index              float64\n",
              "Log Y Index              float64\n",
              "Orientation Index        float64\n",
              "Luminosity Index         float64\n",
              "SigmoidOfAreas           float64\n",
              "target                    object\n",
              "dtype: object"
            ]
          },
          "metadata": {},
          "execution_count": 7
        }
      ]
    },
    {
      "cell_type": "markdown",
      "source": [
        "Let's check how the dataset looks like"
      ],
      "metadata": {
        "id": "TniKNFQpy0n1"
      }
    },
    {
      "cell_type": "code",
      "source": [
        "print(data_train)"
      ],
      "metadata": {
        "colab": {
          "base_uri": "https://localhost:8080/"
        },
        "id": "AYDCciM1yfYz",
        "outputId": "7eb9140e-b8f9-4f18-f352-2a3367f3be62"
      },
      "execution_count": 8,
      "outputs": [
        {
          "output_type": "stream",
          "name": "stdout",
          "text": [
            "      X Minimum  X Maximum  Y Minimum  Y Maximum  Pixels Areas  X Perimeter  \\\n",
            "0           188        198    3942253    3942263            74           11   \n",
            "1          1343       1351      46714      46725            56           11   \n",
            "2          1508       1550    1791800    1791803            92           42   \n",
            "3           405        416     634279     634288            71           15   \n",
            "4           763        780     677184     677200           178           20   \n",
            "...         ...        ...        ...        ...           ...          ...   \n",
            "1548         61         78    1036126    1036161           265           47   \n",
            "1549        244        261     184455     184498           460           49   \n",
            "1550        325        361      58567      58747          2059          134   \n",
            "1551         41        190     508837     508896          5702          216   \n",
            "1552         89        151    2584705    2584775          1909          175   \n",
            "\n",
            "      Y Perimeter  Sum of Luminosity  Minimum of Luminosity  \\\n",
            "0              10               8375                     95   \n",
            "1              11               5729                     90   \n",
            "2              15              10838                     72   \n",
            "3              10               8824                    113   \n",
            "4              16              17592                     50   \n",
            "...           ...                ...                    ...   \n",
            "1548           40              26694                     86   \n",
            "1549           44              46972                     86   \n",
            "1550          200             374117                    169   \n",
            "1551          119             591835                     45   \n",
            "1552          125             245067                    120   \n",
            "\n",
            "      Maximum of Luminosity  ...  Edges X Index  Edges Y Index  \\\n",
            "0                       134  ...         0.9091         1.0000   \n",
            "1                       117  ...         0.7273         1.0000   \n",
            "2                       198  ...         1.0000         0.2000   \n",
            "3                       135  ...         0.7333         0.9000   \n",
            "4                       126  ...         0.8500         1.0000   \n",
            "...                     ...  ...            ...            ...   \n",
            "1548                    116  ...         0.3617         0.8750   \n",
            "1549                    111  ...         0.3469         0.9773   \n",
            "1550                    199  ...         0.2687         0.9000   \n",
            "1551                    126  ...         0.6898         0.4958   \n",
            "1552                    140  ...         0.3543         0.5600   \n",
            "\n",
            "      Outside Global Index  LogOfAreas  Log X Index  Log Y Index  \\\n",
            "0                      0.5      1.8692       1.0000       1.0000   \n",
            "1                      1.0      1.7482       0.9031       1.0414   \n",
            "2                      0.0      1.9638       1.6233       0.4771   \n",
            "3                      0.0      1.8513       1.0414       0.9542   \n",
            "4                      0.0      2.2504       1.2305       1.2041   \n",
            "...                    ...         ...          ...          ...   \n",
            "1548                   1.0      2.4232       1.2305       1.5441   \n",
            "1549                   1.0      2.6628       1.2305       1.6335   \n",
            "1550                   1.0      3.3137       1.5563       2.2553   \n",
            "1551                   0.0      3.7560       2.1732       1.7708   \n",
            "1552                   1.0      3.2808       1.7924       1.8451   \n",
            "\n",
            "      Orientation Index  Luminosity Index  SigmoidOfAreas        target  \n",
            "0                0.0000           -0.1158          0.2061         Bumps  \n",
            "1                0.2727           -0.2007          0.1934  Other_Faults  \n",
            "2               -0.9286           -0.0796          0.2359  Other_Faults  \n",
            "3               -0.1818           -0.0291          0.2051     Z_Scratch  \n",
            "4               -0.0588           -0.2279          0.4498         Bumps  \n",
            "...                 ...               ...             ...           ...  \n",
            "1548             0.5143           -0.2130          0.8756     Z_Scratch  \n",
            "1549             0.6047           -0.2022          0.9457  Other_Faults  \n",
            "1550             0.8000            0.4195          1.0000  Other_Faults  \n",
            "1551            -0.6040           -0.1891          1.0000     K_Scratch  \n",
            "1552             0.1143            0.0029          1.0000     K_Scratch  \n",
            "\n",
            "[1553 rows x 28 columns]\n"
          ]
        }
      ]
    },
    {
      "cell_type": "markdown",
      "source": [
        "Here we plot the correlation matrix. We can see witch features is strongly correlated. We can eventualy drop the features that are not strongly correlated"
      ],
      "metadata": {
        "id": "RDqMd4NL5oU4"
      }
    },
    {
      "cell_type": "code",
      "source": [
        "import seaborn as sns\n",
        "import matplotlib.pyplot as plt\n",
        "sns.heatmap(data_train.corr())\n",
        "plt.show()"
      ],
      "metadata": {
        "colab": {
          "base_uri": "https://localhost:8080/",
          "height": 376
        },
        "id": "fSlYV_V65oy2",
        "outputId": "1fa17503-bec7-4964-a32a-573821af1711"
      },
      "execution_count": 9,
      "outputs": [
        {
          "output_type": "display_data",
          "data": {
            "image/png": "[encoded data removed]",
            "text/plain": [
              "<Figure size 432x288 with 2 Axes>"
            ]
          },
          "metadata": {
            "needs_background": "light"
          }
        }
      ]
    },
    {
      "cell_type": "markdown",
      "source": [
        "## Preprocessing and normalizing dataset"
      ],
      "metadata": {
        "id": "HO1KLDa-wTem"
      }
    },
    {
      "cell_type": "markdown",
      "source": [
        "Here we normalize de train and test set as usual using mean and std"
      ],
      "metadata": {
        "id": "J4GL86JWyUdr"
      }
    },
    {
      "cell_type": "code",
      "source": [
        "train_normalized = (data_train.iloc[:, :-1]-data_train.iloc[:, :-1].mean())/data_train.iloc[:, :-1].std()\n",
        "test_normalized = (data_test.iloc[:, :-1]-data_test.iloc[:, :-1].mean())/data_test.iloc[:, :-1].std()"
      ],
      "metadata": {
        "id": "dAss7NQbkvtr"
      },
      "execution_count": 10,
      "outputs": []
    },
    {
      "cell_type": "markdown",
      "source": [
        "We can see that our data is normalised. Data normalization ensures that your data looks, reads, and can be utilized the same way across all of dataset."
      ],
      "metadata": {
        "id": "LeDQd73uy8BT"
      }
    },
    {
      "cell_type": "code",
      "source": [
        "print(train_normalized)"
      ],
      "metadata": {
        "colab": {
          "base_uri": "https://localhost:8080/"
        },
        "id": "y0LcRT4flOsG",
        "outputId": "64d8231e-a33e-4f41-fbcc-93a70afb713b"
      },
      "execution_count": 11,
      "outputs": [
        {
          "output_type": "stream",
          "name": "stdout",
          "text": [
            "      X Minimum  X Maximum  Y Minimum  Y Maximum  Pixels Areas  X Perimeter  \\\n",
            "0     -0.747612  -0.853918   1.293756   1.293719     -0.331956    -0.313866   \n",
            "1      1.474968   1.464211  -0.891903  -0.891920     -0.335237    -0.313866   \n",
            "2      1.792479   1.864304   0.087208   0.087177     -0.328675    -0.218570   \n",
            "3     -0.330036  -0.415625  -0.562239  -0.562261     -0.332503    -0.301570   \n",
            "4      0.358867   0.316204  -0.538167  -0.538184     -0.312997    -0.286199   \n",
            "...         ...        ...        ...        ...           ...          ...   \n",
            "1548  -0.991999  -1.095180  -0.336776  -0.336785     -0.297137    -0.203199   \n",
            "1549  -0.639850  -0.727255  -0.814621  -0.814621     -0.261590    -0.197051   \n",
            "1550  -0.483981  -0.526203  -0.885252  -0.885175      0.029902     0.064245   \n",
            "1551  -1.030486  -0.870002  -0.632621  -0.632613      0.694009     0.316318   \n",
            "1552  -0.938119  -0.948412   0.532080   0.532084      0.002558     0.190282   \n",
            "\n",
            "      Y Perimeter  Sum of Luminosity  Minimum of Luminosity  \\\n",
            "0       -0.159190          -0.370694               0.299935   \n",
            "1       -0.157079          -0.375651               0.145061   \n",
            "2       -0.148637          -0.366079              -0.412486   \n",
            "3       -0.159190          -0.369852               0.857482   \n",
            "4       -0.146526          -0.353424              -1.093931   \n",
            "...           ...                ...                    ...   \n",
            "1548    -0.095871          -0.336371               0.021162   \n",
            "1549    -0.087429          -0.298377               0.021162   \n",
            "1550     0.241829           0.314567               2.592071   \n",
            "1551     0.070868           0.722488              -1.248805   \n",
            "1552     0.083532           0.072777               1.074305   \n",
            "\n",
            "      Maximum of Luminosity  ...  Outside X Index  Edges X Index  \\\n",
            "0                  0.176855  ...        -0.451017       1.223177   \n",
            "1                 -0.727669  ...        -0.451017       0.481914   \n",
            "2                  3.582125  ...        -0.135388       1.593808   \n",
            "3                  0.230063  ...        -0.414277       0.506378   \n",
            "4                 -0.248803  ...        -0.382547       0.982205   \n",
            "...                     ...  ...              ...            ...   \n",
            "1548              -0.780877  ...        -0.340797      -1.008766   \n",
            "1549              -1.046914  ...        -0.382547      -1.069111   \n",
            "1550               3.635332  ...        -0.115348      -1.387960   \n",
            "1551              -0.248803  ...         1.285779       0.329013   \n",
            "1552               0.496099  ...         0.190261      -1.038939   \n",
            "\n",
            "      Edges Y Index  Outside Global Index  LogOfAreas  Log X Index  \\\n",
            "0          0.791241             -0.163017   -0.784882    -0.690242   \n",
            "1          0.791241              0.874545   -0.939166    -0.893041   \n",
            "2         -2.642887             -1.200578   -0.664260     0.614246   \n",
            "3          0.361975             -1.200578   -0.807706    -0.603597   \n",
            "4          0.791241             -1.200578   -0.298824    -0.207835   \n",
            "...             ...                   ...         ...          ...   \n",
            "1548       0.254658              0.874545   -0.078491    -0.207835   \n",
            "1549       0.693797              0.874545    0.227016    -0.207835   \n",
            "1550       0.361975              0.874545    1.056962     0.474023   \n",
            "1551      -1.373119             -1.200578    1.620926     1.765117   \n",
            "1552      -1.097530              0.874545    1.015012     0.968151   \n",
            "\n",
            "      Log Y Index  Orientation Index  Luminosity Index  SigmoidOfAreas  \n",
            "0       -0.881697          -0.174751          0.073908       -1.114932  \n",
            "1       -0.790872           0.372157         -0.495559       -1.152386  \n",
            "2       -2.028851          -2.037087          0.316720       -1.027049  \n",
            "3       -0.982174          -0.539357          0.655449       -1.117882  \n",
            "4       -0.433936          -0.292676         -0.678003       -0.396236  \n",
            "...           ...                ...               ...             ...  \n",
            "1548     0.311966           0.856693         -0.578061        0.859492  \n",
            "1549     0.508094           1.037993         -0.505620        1.066225  \n",
            "1550     1.872218           1.429673          3.664437        1.226361  \n",
            "1551     0.809307          -1.386092         -0.417752        1.226361  \n",
            "1552     0.972309           0.054481          0.870089        1.226361  \n",
            "\n",
            "[1553 rows x 27 columns]\n"
          ]
        }
      ]
    },
    {
      "cell_type": "markdown",
      "source": [
        "Here we separate de dataframe in order to have 26 features and the last column for the label"
      ],
      "metadata": {
        "id": "FtPqstp9zTN0"
      }
    },
    {
      "cell_type": "code",
      "source": [
        "X_train=train_normalized\n",
        "X_train=X_train.values"
      ],
      "metadata": {
        "id": "1Otc33gavfOJ"
      },
      "execution_count": 12,
      "outputs": []
    },
    {
      "cell_type": "code",
      "source": [
        "Y_train=data_train.iloc[:,-1:]\n",
        "Y_train=Y_train.values"
      ],
      "metadata": {
        "id": "BQIyY4hGi_EW"
      },
      "execution_count": 13,
      "outputs": []
    },
    {
      "cell_type": "code",
      "source": [
        "Y_train"
      ],
      "metadata": {
        "colab": {
          "base_uri": "https://localhost:8080/"
        },
        "id": "abxwP8MSiziD",
        "outputId": "814001ba-934a-413f-ef53-64cb6f59b83d"
      },
      "execution_count": 14,
      "outputs": [
        {
          "output_type": "execute_result",
          "data": {
            "text/plain": [
              "array([['Bumps'],\n",
              "       ['Other_Faults'],\n",
              "       ['Other_Faults'],\n",
              "       ...,\n",
              "       ['Other_Faults'],\n",
              "       ['K_Scratch'],\n",
              "       ['K_Scratch']], dtype=object)"
            ]
          },
          "metadata": {},
          "execution_count": 14
        }
      ]
    },
    {
      "cell_type": "code",
      "source": [
        "X_test=test_normalized.values\n",
        "print(X_test)"
      ],
      "metadata": {
        "colab": {
          "base_uri": "https://localhost:8080/"
        },
        "id": "QEZVXaynjSyx",
        "outputId": "aa102005-5d0b-4041-b856-f39311277112"
      },
      "execution_count": 15,
      "outputs": [
        {
          "output_type": "stream",
          "name": "stdout",
          "text": [
            "[[ 1.01043033  0.98055702  0.24592938 ...  0.08470556  0.21232128\n",
            "  -1.21057208]\n",
            " [ 1.44289882  1.43766493  0.53055912 ...  0.78943668  0.55272591\n",
            "  -0.93925977]\n",
            " [ 0.2350353   0.19264734 -0.46840906 ... -0.31127688 -0.98798101\n",
            "   0.36397691]\n",
            " ...\n",
            " [-0.82041642 -0.94611271 -0.30692569 ...  1.28637504  0.81657368\n",
            "  -0.60202384]\n",
            " [-0.88900173 -1.00224877 -0.58353811 ...  0.5726265  -0.02145058\n",
            "   0.19609142]\n",
            " [-0.77278773 -0.89398637 -0.01215003 ...  0.72455045  0.15216945\n",
            "  -0.97324706]]\n"
          ]
        }
      ]
    },
    {
      "cell_type": "code",
      "source": [
        "Y_test=data_test.iloc[:,-1:]\n",
        "Y_test=Y_test.values\n",
        "print(Y_test)"
      ],
      "metadata": {
        "colab": {
          "base_uri": "https://localhost:8080/"
        },
        "id": "XwsLTCx9jzpX",
        "outputId": "060e4a38-9dcb-4147-89fe-143df815dfce"
      },
      "execution_count": 16,
      "outputs": [
        {
          "output_type": "stream",
          "name": "stdout",
          "text": [
            "[['Other_Faults']\n",
            " ['Bumps']\n",
            " ['Bumps']\n",
            " ['Dirtiness']\n",
            " ['Other_Faults']\n",
            " ['Bumps']\n",
            " ['K_Scratch']\n",
            " ['Pastry']\n",
            " ['Pastry']\n",
            " ['K_Scratch']\n",
            " ['K_Scratch']\n",
            " ['Pastry']\n",
            " ['Z_Scratch']\n",
            " ['K_Scratch']\n",
            " ['K_Scratch']\n",
            " ['Bumps']\n",
            " ['Other_Faults']\n",
            " ['Z_Scratch']\n",
            " ['Pastry']\n",
            " ['Other_Faults']\n",
            " ['Other_Faults']\n",
            " ['Bumps']\n",
            " ['Bumps']\n",
            " ['Pastry']\n",
            " ['Other_Faults']\n",
            " ['K_Scratch']\n",
            " ['Bumps']\n",
            " ['Other_Faults']\n",
            " ['Other_Faults']\n",
            " ['Z_Scratch']\n",
            " ['K_Scratch']\n",
            " ['Other_Faults']\n",
            " ['Other_Faults']\n",
            " ['Pastry']\n",
            " ['Bumps']\n",
            " ['Other_Faults']\n",
            " ['K_Scratch']\n",
            " ['K_Scratch']\n",
            " ['Bumps']\n",
            " ['Other_Faults']\n",
            " ['Bumps']\n",
            " ['Other_Faults']\n",
            " ['K_Scratch']\n",
            " ['Pastry']\n",
            " ['Dirtiness']\n",
            " ['Other_Faults']\n",
            " ['Other_Faults']\n",
            " ['Other_Faults']\n",
            " ['Pastry']\n",
            " ['Z_Scratch']\n",
            " ['Other_Faults']\n",
            " ['K_Scratch']\n",
            " ['Bumps']\n",
            " ['Other_Faults']\n",
            " ['Bumps']\n",
            " ['Bumps']\n",
            " ['Other_Faults']\n",
            " ['Other_Faults']\n",
            " ['Pastry']\n",
            " ['Other_Faults']\n",
            " ['Z_Scratch']\n",
            " ['Other_Faults']\n",
            " ['Bumps']\n",
            " ['Bumps']\n",
            " ['Z_Scratch']\n",
            " ['Other_Faults']\n",
            " ['Z_Scratch']\n",
            " ['Stains']\n",
            " ['Bumps']\n",
            " ['K_Scratch']\n",
            " ['Other_Faults']\n",
            " ['K_Scratch']\n",
            " ['Other_Faults']\n",
            " ['Bumps']\n",
            " ['Bumps']\n",
            " ['Other_Faults']\n",
            " ['Bumps']\n",
            " ['Bumps']\n",
            " ['Bumps']\n",
            " ['Bumps']\n",
            " ['Z_Scratch']\n",
            " ['K_Scratch']\n",
            " ['Bumps']\n",
            " ['Other_Faults']\n",
            " ['Bumps']\n",
            " ['Other_Faults']\n",
            " ['Other_Faults']\n",
            " ['K_Scratch']\n",
            " ['K_Scratch']\n",
            " ['Z_Scratch']\n",
            " ['K_Scratch']\n",
            " ['Other_Faults']\n",
            " ['K_Scratch']\n",
            " ['Bumps']\n",
            " ['Other_Faults']\n",
            " ['Z_Scratch']\n",
            " ['Stains']\n",
            " ['Bumps']\n",
            " ['Z_Scratch']\n",
            " ['Stains']\n",
            " ['K_Scratch']\n",
            " ['Other_Faults']\n",
            " ['Bumps']\n",
            " ['K_Scratch']\n",
            " ['Pastry']\n",
            " ['Other_Faults']\n",
            " ['Stains']\n",
            " ['Bumps']\n",
            " ['Z_Scratch']\n",
            " ['K_Scratch']\n",
            " ['Bumps']\n",
            " ['Bumps']\n",
            " ['Other_Faults']\n",
            " ['Pastry']\n",
            " ['Bumps']\n",
            " ['Z_Scratch']\n",
            " ['K_Scratch']\n",
            " ['Z_Scratch']\n",
            " ['Dirtiness']\n",
            " ['K_Scratch']\n",
            " ['K_Scratch']\n",
            " ['Other_Faults']\n",
            " ['K_Scratch']\n",
            " ['Stains']\n",
            " ['Pastry']\n",
            " ['Bumps']\n",
            " ['Bumps']\n",
            " ['Dirtiness']\n",
            " ['Bumps']\n",
            " ['Z_Scratch']\n",
            " ['Stains']\n",
            " ['Stains']\n",
            " ['Z_Scratch']\n",
            " ['Pastry']\n",
            " ['Pastry']\n",
            " ['K_Scratch']\n",
            " ['Other_Faults']\n",
            " ['Other_Faults']\n",
            " ['K_Scratch']\n",
            " ['K_Scratch']\n",
            " ['Other_Faults']\n",
            " ['K_Scratch']\n",
            " ['Other_Faults']\n",
            " ['Bumps']\n",
            " ['Bumps']\n",
            " ['Pastry']\n",
            " ['Bumps']\n",
            " ['Other_Faults']\n",
            " ['Bumps']\n",
            " ['K_Scratch']\n",
            " ['K_Scratch']\n",
            " ['Bumps']\n",
            " ['Z_Scratch']\n",
            " ['Bumps']\n",
            " ['Bumps']\n",
            " ['Dirtiness']\n",
            " ['K_Scratch']\n",
            " ['Other_Faults']\n",
            " ['Bumps']\n",
            " ['Bumps']\n",
            " ['Pastry']\n",
            " ['K_Scratch']\n",
            " ['Stains']\n",
            " ['Bumps']\n",
            " ['Bumps']\n",
            " ['Stains']\n",
            " ['Other_Faults']\n",
            " ['Other_Faults']\n",
            " ['Z_Scratch']\n",
            " ['K_Scratch']\n",
            " ['Z_Scratch']\n",
            " ['Other_Faults']\n",
            " ['Z_Scratch']\n",
            " ['K_Scratch']\n",
            " ['Other_Faults']\n",
            " ['Other_Faults']\n",
            " ['Pastry']\n",
            " ['Other_Faults']\n",
            " ['Other_Faults']\n",
            " ['Other_Faults']\n",
            " ['Other_Faults']\n",
            " ['Z_Scratch']\n",
            " ['Bumps']\n",
            " ['Pastry']\n",
            " ['Bumps']\n",
            " ['Other_Faults']\n",
            " ['Other_Faults']\n",
            " ['Stains']\n",
            " ['Other_Faults']\n",
            " ['Other_Faults']\n",
            " ['Other_Faults']\n",
            " ['Z_Scratch']\n",
            " ['Bumps']\n",
            " ['Z_Scratch']\n",
            " ['Z_Scratch']\n",
            " ['Other_Faults']\n",
            " ['Bumps']\n",
            " ['K_Scratch']\n",
            " ['Stains']\n",
            " ['Other_Faults']\n",
            " ['Other_Faults']\n",
            " ['Other_Faults']\n",
            " ['Other_Faults']\n",
            " ['Bumps']\n",
            " ['Pastry']\n",
            " ['K_Scratch']\n",
            " ['Bumps']\n",
            " ['Other_Faults']\n",
            " ['Bumps']\n",
            " ['Z_Scratch']\n",
            " ['Bumps']\n",
            " ['Other_Faults']\n",
            " ['K_Scratch']\n",
            " ['K_Scratch']\n",
            " ['Other_Faults']\n",
            " ['Bumps']\n",
            " ['Pastry']\n",
            " ['Bumps']\n",
            " ['Z_Scratch']\n",
            " ['K_Scratch']\n",
            " ['Z_Scratch']\n",
            " ['Z_Scratch']\n",
            " ['Other_Faults']\n",
            " ['K_Scratch']\n",
            " ['Bumps']\n",
            " ['K_Scratch']\n",
            " ['Bumps']\n",
            " ['Other_Faults']\n",
            " ['Pastry']\n",
            " ['K_Scratch']\n",
            " ['Other_Faults']\n",
            " ['Bumps']\n",
            " ['Other_Faults']\n",
            " ['Other_Faults']\n",
            " ['K_Scratch']\n",
            " ['Pastry']\n",
            " ['K_Scratch']\n",
            " ['K_Scratch']\n",
            " ['Other_Faults']\n",
            " ['Other_Faults']\n",
            " ['Other_Faults']\n",
            " ['K_Scratch']\n",
            " ['Other_Faults']\n",
            " ['Dirtiness']\n",
            " ['K_Scratch']\n",
            " ['Other_Faults']\n",
            " ['Other_Faults']\n",
            " ['Other_Faults']\n",
            " ['Bumps']\n",
            " ['Z_Scratch']\n",
            " ['Pastry']\n",
            " ['K_Scratch']\n",
            " ['Other_Faults']\n",
            " ['Other_Faults']\n",
            " ['Bumps']\n",
            " ['Other_Faults']\n",
            " ['Other_Faults']\n",
            " ['K_Scratch']\n",
            " ['K_Scratch']\n",
            " ['K_Scratch']\n",
            " ['Other_Faults']\n",
            " ['Pastry']\n",
            " ['Pastry']\n",
            " ['Stains']\n",
            " ['Z_Scratch']\n",
            " ['Bumps']\n",
            " ['K_Scratch']\n",
            " ['Other_Faults']\n",
            " ['Pastry']\n",
            " ['Other_Faults']\n",
            " ['K_Scratch']\n",
            " ['K_Scratch']\n",
            " ['Other_Faults']\n",
            " ['Bumps']\n",
            " ['Other_Faults']\n",
            " ['Pastry']\n",
            " ['Z_Scratch']\n",
            " ['Pastry']\n",
            " ['Bumps']\n",
            " ['Bumps']\n",
            " ['Dirtiness']\n",
            " ['K_Scratch']\n",
            " ['Z_Scratch']\n",
            " ['K_Scratch']\n",
            " ['K_Scratch']\n",
            " ['Bumps']\n",
            " ['Pastry']\n",
            " ['Other_Faults']\n",
            " ['Bumps']\n",
            " ['K_Scratch']\n",
            " ['K_Scratch']\n",
            " ['Bumps']\n",
            " ['K_Scratch']\n",
            " ['Other_Faults']\n",
            " ['Other_Faults']\n",
            " ['Bumps']\n",
            " ['Other_Faults']\n",
            " ['Other_Faults']\n",
            " ['K_Scratch']\n",
            " ['Z_Scratch']\n",
            " ['K_Scratch']\n",
            " ['Bumps']\n",
            " ['Bumps']\n",
            " ['Z_Scratch']\n",
            " ['Pastry']\n",
            " ['Other_Faults']\n",
            " ['Other_Faults']\n",
            " ['Other_Faults']\n",
            " ['K_Scratch']\n",
            " ['Pastry']\n",
            " ['K_Scratch']\n",
            " ['K_Scratch']\n",
            " ['K_Scratch']\n",
            " ['Other_Faults']\n",
            " ['Bumps']\n",
            " ['Pastry']\n",
            " ['K_Scratch']\n",
            " ['Other_Faults']\n",
            " ['Other_Faults']\n",
            " ['K_Scratch']\n",
            " ['Bumps']\n",
            " ['K_Scratch']\n",
            " ['K_Scratch']\n",
            " ['K_Scratch']\n",
            " ['K_Scratch']\n",
            " ['Other_Faults']\n",
            " ['K_Scratch']\n",
            " ['Bumps']\n",
            " ['Other_Faults']\n",
            " ['Z_Scratch']\n",
            " ['Z_Scratch']\n",
            " ['Pastry']\n",
            " ['Other_Faults']\n",
            " ['Other_Faults']\n",
            " ['Dirtiness']\n",
            " ['Bumps']\n",
            " ['Dirtiness']\n",
            " ['Bumps']\n",
            " ['Z_Scratch']\n",
            " ['Bumps']\n",
            " ['Other_Faults']\n",
            " ['Bumps']\n",
            " ['Other_Faults']\n",
            " ['Pastry']\n",
            " ['Other_Faults']\n",
            " ['K_Scratch']\n",
            " ['K_Scratch']\n",
            " ['K_Scratch']\n",
            " ['Pastry']\n",
            " ['Pastry']\n",
            " ['Other_Faults']\n",
            " ['K_Scratch']\n",
            " ['Bumps']\n",
            " ['Other_Faults']\n",
            " ['Stains']\n",
            " ['K_Scratch']\n",
            " ['Bumps']\n",
            " ['Other_Faults']\n",
            " ['Bumps']\n",
            " ['Bumps']\n",
            " ['K_Scratch']\n",
            " ['Stains']\n",
            " ['Other_Faults']\n",
            " ['K_Scratch']\n",
            " ['Other_Faults']\n",
            " ['Stains']\n",
            " ['Z_Scratch']\n",
            " ['Other_Faults']\n",
            " ['Other_Faults']\n",
            " ['Bumps']\n",
            " ['Other_Faults']\n",
            " ['Z_Scratch']\n",
            " ['Bumps']\n",
            " ['Bumps']\n",
            " ['Dirtiness']\n",
            " ['Other_Faults']\n",
            " ['Bumps']\n",
            " ['Dirtiness']\n",
            " ['K_Scratch']\n",
            " ['Stains']\n",
            " ['K_Scratch']\n",
            " ['Other_Faults']\n",
            " ['Other_Faults']\n",
            " ['Stains']\n",
            " ['Other_Faults']\n",
            " ['Z_Scratch']\n",
            " ['Bumps']\n",
            " ['Z_Scratch']]\n"
          ]
        }
      ]
    },
    {
      "cell_type": "markdown",
      "source": [
        "We check if the shapes ar properly well suited"
      ],
      "metadata": {
        "id": "ZhVkmfHpzcBN"
      }
    },
    {
      "cell_type": "code",
      "source": [
        "print('X_train.shape = ',X_train.shape)\n",
        "print('X_test.shape = ',X_test.shape)\n",
        "print('Y_train.shape = ',Y_train.shape)\n",
        "print('Y_test.shape = ',Y_test.shape)"
      ],
      "metadata": {
        "colab": {
          "base_uri": "https://localhost:8080/"
        },
        "id": "UohodGqokdNj",
        "outputId": "5731f089-b206-49d8-c06f-65aa6f4673c3"
      },
      "execution_count": 17,
      "outputs": [
        {
          "output_type": "stream",
          "name": "stdout",
          "text": [
            "X_train.shape =  (1553, 27)\n",
            "X_test.shape =  (388, 27)\n",
            "Y_train.shape =  (1553, 1)\n",
            "Y_test.shape =  (388, 1)\n"
          ]
        }
      ]
    },
    {
      "cell_type": "markdown",
      "source": [
        "Here we encode Encode Labels "
      ],
      "metadata": {
        "id": "w5LQPeIjws0E"
      }
    },
    {
      "cell_type": "code",
      "source": [
        "from sklearn import preprocessing \n",
        "LabelEnc = preprocessing.LabelEncoder()\n",
        "LabelEnc.fit(Y_train)\n",
        "Y_train=LabelEnc.transform(Y_train)\n",
        "Y_test =LabelEnc.transform(Y_test)"
      ],
      "metadata": {
        "colab": {
          "base_uri": "https://localhost:8080/"
        },
        "id": "0Afy9s3ykihD",
        "outputId": "0d9062c4-e1cf-4c90-9ef9-cbca48a3e0d8"
      },
      "execution_count": 18,
      "outputs": [
        {
          "output_type": "stream",
          "name": "stderr",
          "text": [
            "/usr/local/lib/python3.7/dist-packages/sklearn/preprocessing/_label.py:98: DataConversionWarning: A column-vector y was passed when a 1d array was expected. Please change the shape of y to (n_samples, ), for example using ravel().\n",
            "  y = column_or_1d(y, warn=True)\n",
            "/usr/local/lib/python3.7/dist-packages/sklearn/preprocessing/_label.py:133: DataConversionWarning: A column-vector y was passed when a 1d array was expected. Please change the shape of y to (n_samples, ), for example using ravel().\n",
            "  y = column_or_1d(y, warn=True)\n"
          ]
        }
      ]
    },
    {
      "cell_type": "code",
      "source": [
        "print(Y_train)\n",
        "print(Y_test)\n"
      ],
      "metadata": {
        "colab": {
          "base_uri": "https://localhost:8080/"
        },
        "id": "YtYX035npkws",
        "outputId": "a0831e4f-6cf1-4fd1-93ec-b7ac622169f8"
      },
      "execution_count": 19,
      "outputs": [
        {
          "output_type": "stream",
          "name": "stdout",
          "text": [
            "[0 3 3 ... 3 2 2]\n",
            "[3 0 0 1 3 0 2 4 4 2 2 4 6 2 2 0 3 6 4 3 3 0 0 4 3 2 0 3 3 6 2 3 3 4 0 3 2\n",
            " 2 0 3 0 3 2 4 1 3 3 3 4 6 3 2 0 3 0 0 3 3 4 3 6 3 0 0 6 3 6 5 0 2 3 2 3 0\n",
            " 0 3 0 0 0 0 6 2 0 3 0 3 3 2 2 6 2 3 2 0 3 6 5 0 6 5 2 3 0 2 4 3 5 0 6 2 0\n",
            " 0 3 4 0 6 2 6 1 2 2 3 2 5 4 0 0 1 0 6 5 5 6 4 4 2 3 3 2 2 3 2 3 0 0 4 0 3\n",
            " 0 2 2 0 6 0 0 1 2 3 0 0 4 2 5 0 0 5 3 3 6 2 6 3 6 2 3 3 4 3 3 3 3 6 0 4 0\n",
            " 3 3 5 3 3 3 6 0 6 6 3 0 2 5 3 3 3 3 0 4 2 0 3 0 6 0 3 2 2 3 0 4 0 6 2 6 6\n",
            " 3 2 0 2 0 3 4 2 3 0 3 3 2 4 2 2 3 3 3 2 3 1 2 3 3 3 0 6 4 2 3 3 0 3 3 2 2\n",
            " 2 3 4 4 5 6 0 2 3 4 3 2 2 3 0 3 4 6 4 0 0 1 2 6 2 2 0 4 3 0 2 2 0 2 3 3 0\n",
            " 3 3 2 6 2 0 0 6 4 3 3 3 2 4 2 2 2 3 0 4 2 3 3 2 0 2 2 2 2 3 2 0 3 6 6 4 3\n",
            " 3 1 0 1 0 6 0 3 0 3 4 3 2 2 2 4 4 3 2 0 3 5 2 0 3 0 0 2 5 3 2 3 5 6 3 3 0\n",
            " 3 6 0 0 1 3 0 1 2 5 2 3 3 5 3 6 0 6]\n"
          ]
        }
      ]
    },
    {
      "cell_type": "markdown",
      "source": [
        "Here there are all the labels for our dataset"
      ],
      "metadata": {
        "id": "7U_KfYFK0yNG"
      }
    },
    {
      "cell_type": "code",
      "source": [
        "LabelEnc.classes_"
      ],
      "metadata": {
        "colab": {
          "base_uri": "https://localhost:8080/"
        },
        "id": "qeBL1Lrymd6d",
        "outputId": "8fb8560e-d6b7-4fc9-bfb8-b7f273cde10e"
      },
      "execution_count": 20,
      "outputs": [
        {
          "output_type": "execute_result",
          "data": {
            "text/plain": [
              "array(['Bumps', 'Dirtiness', 'K_Scratch', 'Other_Faults', 'Pastry',\n",
              "       'Stains', 'Z_Scratch'], dtype=object)"
            ]
          },
          "metadata": {},
          "execution_count": 20
        }
      ]
    },
    {
      "cell_type": "code",
      "source": [
        "Y_train"
      ],
      "metadata": {
        "colab": {
          "base_uri": "https://localhost:8080/"
        },
        "id": "8L7tkIW-mhnX",
        "outputId": "1b9708d6-292a-46a6-a385-425b9bfdf804"
      },
      "execution_count": 21,
      "outputs": [
        {
          "output_type": "execute_result",
          "data": {
            "text/plain": [
              "array([0, 3, 3, ..., 3, 2, 2])"
            ]
          },
          "metadata": {},
          "execution_count": 21
        }
      ]
    },
    {
      "cell_type": "markdown",
      "source": [
        "## Neural Network modeling"
      ],
      "metadata": {
        "id": "m-FBsfqxww7X"
      }
    },
    {
      "cell_type": "markdown",
      "source": [
        "First Model"
      ],
      "metadata": {
        "id": "1K0NAIsrw3Ic"
      }
    },
    {
      "cell_type": "markdown",
      "source": [
        "For our first model I choose to use 3 relu activation function for our fully connected layers. I choose relu function because we are looking for output between 1 and 7. And for the last we use softmax. I put 2 dropout and  I choose to use the Adam optimizer. I have tested with adagrad, rmsprop, ada etc... but there are not suit very well in our case."
      ],
      "metadata": {
        "id": "a9CLcoc508vS"
      }
    },
    {
      "cell_type": "code",
      "source": [
        "original_model2= keras.Sequential([\n",
        " keras.layers.Dense(128 , activation ='relu',input_dim=27),\n",
        " keras.layers.Dropout(0.2),\n",
        " keras.layers.Dense(64 , activation ='relu',),\n",
        " keras.layers.Dropout(0.25),\n",
        " keras.layers.Dense(10 , activation ='relu',),\n",
        " keras.layers.Dense(7,activation='softmax')])\n",
        "\n",
        "\n",
        "original_model2.compile(optimizer ='adam',\n",
        "loss ='sparse_categorical_crossentropy',\n",
        "metrics =['accuracy'])"
      ],
      "metadata": {
        "id": "JmSOTwKRwA0r"
      },
      "execution_count": 22,
      "outputs": []
    },
    {
      "cell_type": "markdown",
      "source": [
        "Here we fit the model with a validation data"
      ],
      "metadata": {
        "id": "AC4_Whbl99xl"
      }
    },
    {
      "cell_type": "code",
      "source": [
        "original_hist=original_model2.fit(X_train,Y_train,batch_size=512,epochs=75,validation_data=(X_test,Y_test))"
      ],
      "metadata": {
        "colab": {
          "base_uri": "https://localhost:8080/"
        },
        "id": "ZZbkANt1wCdC",
        "outputId": "e60e7fab-7fe8-4598-c995-4627dbe8617e"
      },
      "execution_count": 23,
      "outputs": [
        {
          "output_type": "stream",
          "name": "stdout",
          "text": [
            "Epoch 1/75\n",
            "4/4 [==============================] - 4s 299ms/step - loss: 1.9157 - accuracy: 0.2312 - val_loss: 1.7947 - val_accuracy: 0.3737\n",
            "Epoch 2/75\n",
            "4/4 [==============================] - 0s 32ms/step - loss: 1.8096 - accuracy: 0.3220 - val_loss: 1.7324 - val_accuracy: 0.3814\n",
            "Epoch 3/75\n",
            "4/4 [==============================] - 0s 47ms/step - loss: 1.7310 - accuracy: 0.3838 - val_loss: 1.6753 - val_accuracy: 0.4381\n",
            "Epoch 4/75\n",
            "4/4 [==============================] - 0s 28ms/step - loss: 1.6626 - accuracy: 0.4301 - val_loss: 1.6134 - val_accuracy: 0.4485\n",
            "Epoch 5/75\n",
            "4/4 [==============================] - 0s 41ms/step - loss: 1.6186 - accuracy: 0.4430 - val_loss: 1.5512 - val_accuracy: 0.4485\n",
            "Epoch 6/75\n",
            "4/4 [==============================] - 0s 33ms/step - loss: 1.5581 - accuracy: 0.4495 - val_loss: 1.5007 - val_accuracy: 0.4510\n",
            "Epoch 7/75\n",
            "4/4 [==============================] - 0s 36ms/step - loss: 1.5275 - accuracy: 0.4668 - val_loss: 1.4592 - val_accuracy: 0.4588\n",
            "Epoch 8/75\n",
            "4/4 [==============================] - 0s 37ms/step - loss: 1.4933 - accuracy: 0.4617 - val_loss: 1.4214 - val_accuracy: 0.4768\n",
            "Epoch 9/75\n",
            "4/4 [==============================] - 0s 34ms/step - loss: 1.4543 - accuracy: 0.4920 - val_loss: 1.3851 - val_accuracy: 0.5077\n",
            "Epoch 10/75\n",
            "4/4 [==============================] - 0s 48ms/step - loss: 1.4232 - accuracy: 0.5003 - val_loss: 1.3502 - val_accuracy: 0.5077\n",
            "Epoch 11/75\n",
            "4/4 [==============================] - 0s 32ms/step - loss: 1.3978 - accuracy: 0.5132 - val_loss: 1.3142 - val_accuracy: 0.5052\n",
            "Epoch 12/75\n",
            "4/4 [==============================] - 0s 48ms/step - loss: 1.3548 - accuracy: 0.5402 - val_loss: 1.2774 - val_accuracy: 0.5284\n",
            "Epoch 13/75\n",
            "4/4 [==============================] - 0s 49ms/step - loss: 1.3382 - accuracy: 0.5460 - val_loss: 1.2416 - val_accuracy: 0.5490\n",
            "Epoch 14/75\n",
            "4/4 [==============================] - 0s 46ms/step - loss: 1.3032 - accuracy: 0.5692 - val_loss: 1.2117 - val_accuracy: 0.5593\n",
            "Epoch 15/75\n",
            "4/4 [==============================] - 0s 57ms/step - loss: 1.2821 - accuracy: 0.5615 - val_loss: 1.1849 - val_accuracy: 0.5670\n",
            "Epoch 16/75\n",
            "4/4 [==============================] - 0s 50ms/step - loss: 1.2670 - accuracy: 0.5621 - val_loss: 1.1576 - val_accuracy: 0.5747\n",
            "Epoch 17/75\n",
            "4/4 [==============================] - 0s 43ms/step - loss: 1.2373 - accuracy: 0.5757 - val_loss: 1.1321 - val_accuracy: 0.5902\n",
            "Epoch 18/75\n",
            "4/4 [==============================] - 0s 45ms/step - loss: 1.1990 - accuracy: 0.5969 - val_loss: 1.1085 - val_accuracy: 0.6134\n",
            "Epoch 19/75\n",
            "4/4 [==============================] - 0s 33ms/step - loss: 1.1657 - accuracy: 0.6098 - val_loss: 1.0873 - val_accuracy: 0.6314\n",
            "Epoch 20/75\n",
            "4/4 [==============================] - 0s 46ms/step - loss: 1.1662 - accuracy: 0.6111 - val_loss: 1.0693 - val_accuracy: 0.6495\n",
            "Epoch 21/75\n",
            "4/4 [==============================] - 0s 54ms/step - loss: 1.1301 - accuracy: 0.6304 - val_loss: 1.0538 - val_accuracy: 0.6418\n",
            "Epoch 22/75\n",
            "4/4 [==============================] - 0s 38ms/step - loss: 1.1088 - accuracy: 0.6330 - val_loss: 1.0379 - val_accuracy: 0.6443\n",
            "Epoch 23/75\n",
            "4/4 [==============================] - 0s 55ms/step - loss: 1.0821 - accuracy: 0.6426 - val_loss: 1.0190 - val_accuracy: 0.6521\n",
            "Epoch 24/75\n",
            "4/4 [==============================] - 0s 46ms/step - loss: 1.0817 - accuracy: 0.6317 - val_loss: 1.0017 - val_accuracy: 0.6546\n",
            "Epoch 25/75\n",
            "4/4 [==============================] - 0s 42ms/step - loss: 1.0438 - accuracy: 0.6568 - val_loss: 0.9849 - val_accuracy: 0.6546\n",
            "Epoch 26/75\n",
            "4/4 [==============================] - 0s 48ms/step - loss: 1.0478 - accuracy: 0.6394 - val_loss: 0.9688 - val_accuracy: 0.6546\n",
            "Epoch 27/75\n",
            "4/4 [==============================] - 0s 54ms/step - loss: 1.0337 - accuracy: 0.6484 - val_loss: 0.9557 - val_accuracy: 0.6598\n",
            "Epoch 28/75\n",
            "4/4 [==============================] - 0s 28ms/step - loss: 1.0162 - accuracy: 0.6523 - val_loss: 0.9428 - val_accuracy: 0.6598\n",
            "Epoch 29/75\n",
            "4/4 [==============================] - 0s 39ms/step - loss: 0.9829 - accuracy: 0.6639 - val_loss: 0.9321 - val_accuracy: 0.6598\n",
            "Epoch 30/75\n",
            "4/4 [==============================] - 0s 54ms/step - loss: 0.9903 - accuracy: 0.6420 - val_loss: 0.9136 - val_accuracy: 0.6727\n",
            "Epoch 31/75\n",
            "4/4 [==============================] - 0s 38ms/step - loss: 0.9588 - accuracy: 0.6652 - val_loss: 0.8957 - val_accuracy: 0.6881\n",
            "Epoch 32/75\n",
            "4/4 [==============================] - 0s 52ms/step - loss: 0.9585 - accuracy: 0.6665 - val_loss: 0.8809 - val_accuracy: 0.7113\n",
            "Epoch 33/75\n",
            "4/4 [==============================] - 0s 50ms/step - loss: 0.9488 - accuracy: 0.6780 - val_loss: 0.8686 - val_accuracy: 0.7036\n",
            "Epoch 34/75\n",
            "4/4 [==============================] - 0s 49ms/step - loss: 0.9286 - accuracy: 0.6697 - val_loss: 0.8632 - val_accuracy: 0.6907\n",
            "Epoch 35/75\n",
            "4/4 [==============================] - 0s 41ms/step - loss: 0.9275 - accuracy: 0.6639 - val_loss: 0.8652 - val_accuracy: 0.6830\n",
            "Epoch 36/75\n",
            "4/4 [==============================] - 0s 45ms/step - loss: 0.9154 - accuracy: 0.6684 - val_loss: 0.8673 - val_accuracy: 0.6649\n",
            "Epoch 37/75\n",
            "4/4 [==============================] - 0s 42ms/step - loss: 0.9033 - accuracy: 0.6697 - val_loss: 0.8635 - val_accuracy: 0.6546\n",
            "Epoch 38/75\n",
            "4/4 [==============================] - 0s 70ms/step - loss: 0.8884 - accuracy: 0.6761 - val_loss: 0.8517 - val_accuracy: 0.6649\n",
            "Epoch 39/75\n",
            "4/4 [==============================] - 0s 52ms/step - loss: 0.8749 - accuracy: 0.6993 - val_loss: 0.8414 - val_accuracy: 0.6753\n",
            "Epoch 40/75\n",
            "4/4 [==============================] - 0s 36ms/step - loss: 0.8596 - accuracy: 0.6806 - val_loss: 0.8318 - val_accuracy: 0.6778\n",
            "Epoch 41/75\n",
            "4/4 [==============================] - 0s 51ms/step - loss: 0.8735 - accuracy: 0.6748 - val_loss: 0.8199 - val_accuracy: 0.6881\n",
            "Epoch 42/75\n",
            "4/4 [==============================] - 0s 38ms/step - loss: 0.8455 - accuracy: 0.6974 - val_loss: 0.8137 - val_accuracy: 0.6959\n",
            "Epoch 43/75\n",
            "4/4 [==============================] - 0s 34ms/step - loss: 0.8481 - accuracy: 0.7038 - val_loss: 0.8075 - val_accuracy: 0.6933\n",
            "Epoch 44/75\n",
            "4/4 [==============================] - 0s 44ms/step - loss: 0.8488 - accuracy: 0.6909 - val_loss: 0.8011 - val_accuracy: 0.7010\n",
            "Epoch 45/75\n",
            "4/4 [==============================] - 0s 46ms/step - loss: 0.8355 - accuracy: 0.7077 - val_loss: 0.7951 - val_accuracy: 0.7036\n",
            "Epoch 46/75\n",
            "4/4 [==============================] - 0s 45ms/step - loss: 0.8290 - accuracy: 0.7019 - val_loss: 0.7941 - val_accuracy: 0.6985\n",
            "Epoch 47/75\n",
            "4/4 [==============================] - 0s 47ms/step - loss: 0.8221 - accuracy: 0.6986 - val_loss: 0.7921 - val_accuracy: 0.7010\n",
            "Epoch 48/75\n",
            "4/4 [==============================] - 0s 24ms/step - loss: 0.8134 - accuracy: 0.7057 - val_loss: 0.7896 - val_accuracy: 0.6985\n",
            "Epoch 49/75\n",
            "4/4 [==============================] - 0s 37ms/step - loss: 0.8210 - accuracy: 0.6948 - val_loss: 0.7929 - val_accuracy: 0.6856\n",
            "Epoch 50/75\n",
            "4/4 [==============================] - 0s 37ms/step - loss: 0.8375 - accuracy: 0.6819 - val_loss: 0.7902 - val_accuracy: 0.6804\n",
            "Epoch 51/75\n",
            "4/4 [==============================] - 0s 59ms/step - loss: 0.8090 - accuracy: 0.7051 - val_loss: 0.7761 - val_accuracy: 0.6959\n",
            "Epoch 52/75\n",
            "4/4 [==============================] - 0s 33ms/step - loss: 0.7906 - accuracy: 0.7006 - val_loss: 0.7695 - val_accuracy: 0.7165\n",
            "Epoch 53/75\n",
            "4/4 [==============================] - 0s 43ms/step - loss: 0.7869 - accuracy: 0.7064 - val_loss: 0.7695 - val_accuracy: 0.7139\n",
            "Epoch 54/75\n",
            "4/4 [==============================] - 0s 23ms/step - loss: 0.7998 - accuracy: 0.7044 - val_loss: 0.7679 - val_accuracy: 0.7036\n",
            "Epoch 55/75\n",
            "4/4 [==============================] - 0s 21ms/step - loss: 0.7788 - accuracy: 0.7128 - val_loss: 0.7690 - val_accuracy: 0.7010\n",
            "Epoch 56/75\n",
            "4/4 [==============================] - 0s 38ms/step - loss: 0.7939 - accuracy: 0.7025 - val_loss: 0.7736 - val_accuracy: 0.6959\n",
            "Epoch 57/75\n",
            "4/4 [==============================] - 0s 65ms/step - loss: 0.7664 - accuracy: 0.7199 - val_loss: 0.7681 - val_accuracy: 0.6933\n",
            "Epoch 58/75\n",
            "4/4 [==============================] - 0s 38ms/step - loss: 0.7781 - accuracy: 0.7019 - val_loss: 0.7562 - val_accuracy: 0.7113\n",
            "Epoch 59/75\n",
            "4/4 [==============================] - 0s 45ms/step - loss: 0.7650 - accuracy: 0.7173 - val_loss: 0.7483 - val_accuracy: 0.7036\n",
            "Epoch 60/75\n",
            "4/4 [==============================] - 0s 43ms/step - loss: 0.7563 - accuracy: 0.7218 - val_loss: 0.7468 - val_accuracy: 0.6959\n",
            "Epoch 61/75\n",
            "4/4 [==============================] - 0s 54ms/step - loss: 0.7536 - accuracy: 0.7167 - val_loss: 0.7430 - val_accuracy: 0.6933\n",
            "Epoch 62/75\n",
            "4/4 [==============================] - 0s 45ms/step - loss: 0.7416 - accuracy: 0.7296 - val_loss: 0.7339 - val_accuracy: 0.7113\n",
            "Epoch 63/75\n",
            "4/4 [==============================] - 0s 44ms/step - loss: 0.7355 - accuracy: 0.7296 - val_loss: 0.7243 - val_accuracy: 0.7113\n",
            "Epoch 64/75\n",
            "4/4 [==============================] - 0s 18ms/step - loss: 0.7531 - accuracy: 0.7218 - val_loss: 0.7172 - val_accuracy: 0.7191\n",
            "Epoch 65/75\n",
            "4/4 [==============================] - 0s 28ms/step - loss: 0.7446 - accuracy: 0.7160 - val_loss: 0.7165 - val_accuracy: 0.7113\n",
            "Epoch 66/75\n",
            "4/4 [==============================] - 0s 37ms/step - loss: 0.7329 - accuracy: 0.7308 - val_loss: 0.7165 - val_accuracy: 0.7088\n",
            "Epoch 67/75\n",
            "4/4 [==============================] - 0s 38ms/step - loss: 0.7507 - accuracy: 0.7096 - val_loss: 0.7127 - val_accuracy: 0.7216\n",
            "Epoch 68/75\n",
            "4/4 [==============================] - 0s 25ms/step - loss: 0.7339 - accuracy: 0.7205 - val_loss: 0.7122 - val_accuracy: 0.7165\n",
            "Epoch 69/75\n",
            "4/4 [==============================] - 0s 20ms/step - loss: 0.7357 - accuracy: 0.7154 - val_loss: 0.7148 - val_accuracy: 0.7165\n",
            "Epoch 70/75\n",
            "4/4 [==============================] - 0s 42ms/step - loss: 0.7235 - accuracy: 0.7128 - val_loss: 0.7243 - val_accuracy: 0.6985\n",
            "Epoch 71/75\n",
            "4/4 [==============================] - 0s 69ms/step - loss: 0.7236 - accuracy: 0.7328 - val_loss: 0.7378 - val_accuracy: 0.6881\n",
            "Epoch 72/75\n",
            "4/4 [==============================] - 0s 26ms/step - loss: 0.7332 - accuracy: 0.7296 - val_loss: 0.7355 - val_accuracy: 0.6856\n",
            "Epoch 73/75\n",
            "4/4 [==============================] - 0s 24ms/step - loss: 0.7197 - accuracy: 0.7199 - val_loss: 0.7315 - val_accuracy: 0.6933\n",
            "Epoch 74/75\n",
            "4/4 [==============================] - 0s 23ms/step - loss: 0.7318 - accuracy: 0.7263 - val_loss: 0.7181 - val_accuracy: 0.7036\n",
            "Epoch 75/75\n",
            "4/4 [==============================] - 0s 20ms/step - loss: 0.7077 - accuracy: 0.7283 - val_loss: 0.7060 - val_accuracy: 0.7010\n"
          ]
        }
      ]
    },
    {
      "cell_type": "markdown",
      "source": [
        "Here we plot the training and validation accuracy. Our model doesn't not overfit. So it is a good model. Let's try to have better results. "
      ],
      "metadata": {
        "id": "F3ek39Dq7evM"
      }
    },
    {
      "cell_type": "code",
      "source": [
        "plt.figure()\n",
        "plt.plot(original_hist.history['accuracy'])\n",
        "plt.plot(original_hist.history['val_accuracy'])\n",
        "plt.xlabel('Epochs')\n",
        "plt.ylabel('loss')\n",
        "plt.legend(['training accuracy', 'validation accuracy'], loc='best')"
      ],
      "metadata": {
        "colab": {
          "base_uri": "https://localhost:8080/",
          "height": 297
        },
        "id": "bHiwps2uuOSk",
        "outputId": "1a5ca0e6-b752-4949-8278-c645327c9f17"
      },
      "execution_count": 24,
      "outputs": [
        {
          "output_type": "execute_result",
          "data": {
            "text/plain": [
              "<matplotlib.legend.Legend at 0x7fc2d04d6890>"
            ]
          },
          "metadata": {},
          "execution_count": 24
        },
        {
          "output_type": "display_data",
          "data": {
            "image/png": "[encoded data removed]",
            "text/plain": [
              "<Figure size 432x288 with 1 Axes>"
            ]
          },
          "metadata": {
            "needs_background": "light"
          }
        }
      ]
    },
    {
      "cell_type": "markdown",
      "source": [
        "Second Model\n",
        "We add l2 regularizers to our first model. We can add some epochs. "
      ],
      "metadata": {
        "id": "werblLip-DNN"
      }
    },
    {
      "cell_type": "code",
      "source": [
        "from keras import regularizers\n",
        "\n",
        "original_model3= keras.Sequential([\n",
        " keras.layers.Dense(128 , activation ='relu',input_dim=27),\n",
        " keras.layers.Dropout(0.2),\n",
        " keras.layers.Dense(64 , activation ='relu',kernel_regularizer=regularizers.l2(0.001)),\n",
        " keras.layers.Dropout(0.25),\n",
        " keras.layers.Dense(16 , activation ='relu',kernel_regularizer=regularizers.l2(0.003)),\n",
        " keras.layers.Dense(7,activation='softmax')])\n",
        "\n",
        "\n",
        "original_model3.compile(optimizer ='adam',\n",
        "loss ='sparse_categorical_crossentropy',\n",
        "metrics =['accuracy'])\n"
      ],
      "metadata": {
        "id": "rUYpvq3yxj4g"
      },
      "execution_count": 34,
      "outputs": []
    },
    {
      "cell_type": "code",
      "source": [
        "hist2=original_model3.fit(X_train,Y_train,batch_size=512,epochs=120,validation_data=(X_test,Y_test))"
      ],
      "metadata": {
        "colab": {
          "base_uri": "https://localhost:8080/"
        },
        "id": "pjw3-GvYz8ca",
        "outputId": "f751bb19-413e-4f3e-87a8-ea4719f198da"
      },
      "execution_count": 35,
      "outputs": [
        {
          "output_type": "stream",
          "name": "stdout",
          "text": [
            "Epoch 1/120\n",
            "4/4 [==============================] - 2s 176ms/step - loss: 2.1556 - accuracy: 0.1887 - val_loss: 1.9679 - val_accuracy: 0.3299\n",
            "Epoch 2/120\n",
            "4/4 [==============================] - 0s 58ms/step - loss: 1.9742 - accuracy: 0.2994 - val_loss: 1.8522 - val_accuracy: 0.4407\n",
            "Epoch 3/120\n",
            "4/4 [==============================] - 0s 44ms/step - loss: 1.8667 - accuracy: 0.3799 - val_loss: 1.7418 - val_accuracy: 0.5026\n",
            "Epoch 4/120\n",
            "4/4 [==============================] - 0s 36ms/step - loss: 1.7609 - accuracy: 0.4469 - val_loss: 1.6390 - val_accuracy: 0.5155\n",
            "Epoch 5/120\n",
            "4/4 [==============================] - 0s 20ms/step - loss: 1.6581 - accuracy: 0.4913 - val_loss: 1.5537 - val_accuracy: 0.4974\n",
            "Epoch 6/120\n",
            "4/4 [==============================] - 0s 40ms/step - loss: 1.5851 - accuracy: 0.4997 - val_loss: 1.4922 - val_accuracy: 0.4820\n",
            "Epoch 7/120\n",
            "4/4 [==============================] - 0s 45ms/step - loss: 1.5087 - accuracy: 0.5106 - val_loss: 1.4501 - val_accuracy: 0.4742\n",
            "Epoch 8/120\n",
            "4/4 [==============================] - 0s 34ms/step - loss: 1.4776 - accuracy: 0.5119 - val_loss: 1.4166 - val_accuracy: 0.4742\n",
            "Epoch 9/120\n",
            "4/4 [==============================] - 0s 24ms/step - loss: 1.4321 - accuracy: 0.5151 - val_loss: 1.3877 - val_accuracy: 0.4742\n",
            "Epoch 10/120\n",
            "4/4 [==============================] - 0s 30ms/step - loss: 1.4053 - accuracy: 0.5229 - val_loss: 1.3594 - val_accuracy: 0.4768\n",
            "Epoch 11/120\n",
            "4/4 [==============================] - 0s 20ms/step - loss: 1.3631 - accuracy: 0.5261 - val_loss: 1.3283 - val_accuracy: 0.4923\n",
            "Epoch 12/120\n",
            "4/4 [==============================] - 0s 19ms/step - loss: 1.3378 - accuracy: 0.5293 - val_loss: 1.2971 - val_accuracy: 0.5077\n",
            "Epoch 13/120\n",
            "4/4 [==============================] - 0s 20ms/step - loss: 1.3220 - accuracy: 0.5396 - val_loss: 1.2637 - val_accuracy: 0.5309\n",
            "Epoch 14/120\n",
            "4/4 [==============================] - 0s 18ms/step - loss: 1.2883 - accuracy: 0.5596 - val_loss: 1.2315 - val_accuracy: 0.5438\n",
            "Epoch 15/120\n",
            "4/4 [==============================] - 0s 30ms/step - loss: 1.2708 - accuracy: 0.5628 - val_loss: 1.1997 - val_accuracy: 0.5567\n",
            "Epoch 16/120\n",
            "4/4 [==============================] - 0s 19ms/step - loss: 1.2375 - accuracy: 0.5737 - val_loss: 1.1677 - val_accuracy: 0.5747\n",
            "Epoch 17/120\n",
            "4/4 [==============================] - 0s 33ms/step - loss: 1.2139 - accuracy: 0.5892 - val_loss: 1.1393 - val_accuracy: 0.5876\n",
            "Epoch 18/120\n",
            "4/4 [==============================] - 0s 36ms/step - loss: 1.1946 - accuracy: 0.5956 - val_loss: 1.1170 - val_accuracy: 0.6031\n",
            "Epoch 19/120\n",
            "4/4 [==============================] - 0s 20ms/step - loss: 1.1942 - accuracy: 0.5911 - val_loss: 1.0978 - val_accuracy: 0.6108\n",
            "Epoch 20/120\n",
            "4/4 [==============================] - 0s 18ms/step - loss: 1.1768 - accuracy: 0.5937 - val_loss: 1.0799 - val_accuracy: 0.6237\n",
            "Epoch 21/120\n",
            "4/4 [==============================] - 0s 18ms/step - loss: 1.1568 - accuracy: 0.6169 - val_loss: 1.0610 - val_accuracy: 0.6289\n",
            "Epoch 22/120\n",
            "4/4 [==============================] - 0s 33ms/step - loss: 1.1362 - accuracy: 0.6240 - val_loss: 1.0448 - val_accuracy: 0.6392\n",
            "Epoch 23/120\n",
            "4/4 [==============================] - 0s 20ms/step - loss: 1.1087 - accuracy: 0.6285 - val_loss: 1.0330 - val_accuracy: 0.6314\n",
            "Epoch 24/120\n",
            "4/4 [==============================] - 0s 12ms/step - loss: 1.0996 - accuracy: 0.6278 - val_loss: 1.0241 - val_accuracy: 0.6340\n",
            "Epoch 25/120\n",
            "4/4 [==============================] - 0s 12ms/step - loss: 1.0855 - accuracy: 0.6285 - val_loss: 1.0152 - val_accuracy: 0.6392\n",
            "Epoch 26/120\n",
            "4/4 [==============================] - 0s 12ms/step - loss: 1.0949 - accuracy: 0.6317 - val_loss: 1.0033 - val_accuracy: 0.6392\n",
            "Epoch 27/120\n",
            "4/4 [==============================] - 0s 13ms/step - loss: 1.0646 - accuracy: 0.6465 - val_loss: 0.9933 - val_accuracy: 0.6572\n",
            "Epoch 28/120\n",
            "4/4 [==============================] - 0s 28ms/step - loss: 1.0360 - accuracy: 0.6658 - val_loss: 0.9884 - val_accuracy: 0.6675\n",
            "Epoch 29/120\n",
            "4/4 [==============================] - 0s 33ms/step - loss: 1.0418 - accuracy: 0.6542 - val_loss: 0.9846 - val_accuracy: 0.6675\n",
            "Epoch 30/120\n",
            "4/4 [==============================] - 0s 27ms/step - loss: 1.0474 - accuracy: 0.6471 - val_loss: 0.9797 - val_accuracy: 0.6753\n",
            "Epoch 31/120\n",
            "4/4 [==============================] - 0s 45ms/step - loss: 1.0252 - accuracy: 0.6561 - val_loss: 0.9707 - val_accuracy: 0.6804\n",
            "Epoch 32/120\n",
            "4/4 [==============================] - 0s 22ms/step - loss: 1.0127 - accuracy: 0.6619 - val_loss: 0.9659 - val_accuracy: 0.6830\n",
            "Epoch 33/120\n",
            "4/4 [==============================] - 0s 26ms/step - loss: 1.0175 - accuracy: 0.6607 - val_loss: 0.9624 - val_accuracy: 0.6624\n",
            "Epoch 34/120\n",
            "4/4 [==============================] - 0s 32ms/step - loss: 1.0140 - accuracy: 0.6671 - val_loss: 0.9645 - val_accuracy: 0.6521\n",
            "Epoch 35/120\n",
            "4/4 [==============================] - 0s 21ms/step - loss: 1.0007 - accuracy: 0.6819 - val_loss: 0.9603 - val_accuracy: 0.6546\n",
            "Epoch 36/120\n",
            "4/4 [==============================] - 0s 22ms/step - loss: 1.0080 - accuracy: 0.6697 - val_loss: 0.9450 - val_accuracy: 0.6727\n",
            "Epoch 37/120\n",
            "4/4 [==============================] - 0s 19ms/step - loss: 0.9972 - accuracy: 0.6755 - val_loss: 0.9304 - val_accuracy: 0.6985\n",
            "Epoch 38/120\n",
            "4/4 [==============================] - 0s 22ms/step - loss: 0.9659 - accuracy: 0.6787 - val_loss: 0.9216 - val_accuracy: 0.6985\n",
            "Epoch 39/120\n",
            "4/4 [==============================] - 0s 38ms/step - loss: 0.9672 - accuracy: 0.6890 - val_loss: 0.9149 - val_accuracy: 0.7010\n",
            "Epoch 40/120\n",
            "4/4 [==============================] - 0s 20ms/step - loss: 0.9704 - accuracy: 0.6748 - val_loss: 0.9117 - val_accuracy: 0.6985\n",
            "Epoch 41/120\n",
            "4/4 [==============================] - 0s 24ms/step - loss: 0.9798 - accuracy: 0.6813 - val_loss: 0.9089 - val_accuracy: 0.6959\n",
            "Epoch 42/120\n",
            "4/4 [==============================] - 0s 19ms/step - loss: 0.9607 - accuracy: 0.6780 - val_loss: 0.9054 - val_accuracy: 0.6830\n",
            "Epoch 43/120\n",
            "4/4 [==============================] - 0s 28ms/step - loss: 0.9499 - accuracy: 0.6948 - val_loss: 0.9025 - val_accuracy: 0.6907\n",
            "Epoch 44/120\n",
            "4/4 [==============================] - 0s 21ms/step - loss: 0.9617 - accuracy: 0.6813 - val_loss: 0.8989 - val_accuracy: 0.6907\n",
            "Epoch 45/120\n",
            "4/4 [==============================] - 0s 22ms/step - loss: 0.9329 - accuracy: 0.6948 - val_loss: 0.8993 - val_accuracy: 0.6856\n",
            "Epoch 46/120\n",
            "4/4 [==============================] - 0s 19ms/step - loss: 0.9406 - accuracy: 0.6890 - val_loss: 0.8934 - val_accuracy: 0.6881\n",
            "Epoch 47/120\n",
            "4/4 [==============================] - 0s 24ms/step - loss: 0.9321 - accuracy: 0.7064 - val_loss: 0.8823 - val_accuracy: 0.7036\n",
            "Epoch 48/120\n",
            "4/4 [==============================] - 0s 25ms/step - loss: 0.9281 - accuracy: 0.6993 - val_loss: 0.8755 - val_accuracy: 0.7062\n",
            "Epoch 49/120\n",
            "4/4 [==============================] - 0s 22ms/step - loss: 0.9363 - accuracy: 0.6967 - val_loss: 0.8741 - val_accuracy: 0.7139\n",
            "Epoch 50/120\n",
            "4/4 [==============================] - 0s 20ms/step - loss: 0.9022 - accuracy: 0.7154 - val_loss: 0.8762 - val_accuracy: 0.7088\n",
            "Epoch 51/120\n",
            "4/4 [==============================] - 0s 25ms/step - loss: 0.9227 - accuracy: 0.7090 - val_loss: 0.8813 - val_accuracy: 0.6881\n",
            "Epoch 52/120\n",
            "4/4 [==============================] - 0s 28ms/step - loss: 0.9201 - accuracy: 0.6922 - val_loss: 0.8945 - val_accuracy: 0.6701\n",
            "Epoch 53/120\n",
            "4/4 [==============================] - 0s 21ms/step - loss: 0.9370 - accuracy: 0.6813 - val_loss: 0.8988 - val_accuracy: 0.6624\n",
            "Epoch 54/120\n",
            "4/4 [==============================] - 0s 24ms/step - loss: 0.9097 - accuracy: 0.6851 - val_loss: 0.8776 - val_accuracy: 0.6701\n",
            "Epoch 55/120\n",
            "4/4 [==============================] - 0s 22ms/step - loss: 0.9091 - accuracy: 0.6961 - val_loss: 0.8616 - val_accuracy: 0.6933\n",
            "Epoch 56/120\n",
            "4/4 [==============================] - 0s 22ms/step - loss: 0.8915 - accuracy: 0.7083 - val_loss: 0.8533 - val_accuracy: 0.7139\n",
            "Epoch 57/120\n",
            "4/4 [==============================] - 0s 21ms/step - loss: 0.8868 - accuracy: 0.7135 - val_loss: 0.8534 - val_accuracy: 0.7010\n",
            "Epoch 58/120\n",
            "4/4 [==============================] - 0s 29ms/step - loss: 0.8857 - accuracy: 0.7070 - val_loss: 0.8577 - val_accuracy: 0.6985\n",
            "Epoch 59/120\n",
            "4/4 [==============================] - 0s 24ms/step - loss: 0.8782 - accuracy: 0.7160 - val_loss: 0.8545 - val_accuracy: 0.6959\n",
            "Epoch 60/120\n",
            "4/4 [==============================] - 0s 22ms/step - loss: 0.8749 - accuracy: 0.7128 - val_loss: 0.8511 - val_accuracy: 0.6881\n",
            "Epoch 61/120\n",
            "4/4 [==============================] - 0s 21ms/step - loss: 0.8811 - accuracy: 0.6993 - val_loss: 0.8538 - val_accuracy: 0.6830\n",
            "Epoch 62/120\n",
            "4/4 [==============================] - 0s 26ms/step - loss: 0.8713 - accuracy: 0.7102 - val_loss: 0.8545 - val_accuracy: 0.6830\n",
            "Epoch 63/120\n",
            "4/4 [==============================] - 0s 39ms/step - loss: 0.8625 - accuracy: 0.7212 - val_loss: 0.8563 - val_accuracy: 0.6907\n",
            "Epoch 64/120\n",
            "4/4 [==============================] - 0s 20ms/step - loss: 0.8624 - accuracy: 0.7141 - val_loss: 0.8522 - val_accuracy: 0.6959\n",
            "Epoch 65/120\n",
            "4/4 [==============================] - 0s 16ms/step - loss: 0.8599 - accuracy: 0.7167 - val_loss: 0.8419 - val_accuracy: 0.6985\n",
            "Epoch 66/120\n",
            "4/4 [==============================] - 0s 14ms/step - loss: 0.8611 - accuracy: 0.7115 - val_loss: 0.8344 - val_accuracy: 0.7036\n",
            "Epoch 67/120\n",
            "4/4 [==============================] - 0s 14ms/step - loss: 0.8561 - accuracy: 0.7193 - val_loss: 0.8310 - val_accuracy: 0.7191\n",
            "Epoch 68/120\n",
            "4/4 [==============================] - 0s 16ms/step - loss: 0.8449 - accuracy: 0.7147 - val_loss: 0.8352 - val_accuracy: 0.7010\n",
            "Epoch 69/120\n",
            "4/4 [==============================] - 0s 16ms/step - loss: 0.8435 - accuracy: 0.7193 - val_loss: 0.8454 - val_accuracy: 0.6881\n",
            "Epoch 70/120\n",
            "4/4 [==============================] - 0s 15ms/step - loss: 0.8560 - accuracy: 0.7154 - val_loss: 0.8571 - val_accuracy: 0.6830\n",
            "Epoch 71/120\n",
            "4/4 [==============================] - 0s 14ms/step - loss: 0.8509 - accuracy: 0.7160 - val_loss: 0.8587 - val_accuracy: 0.6881\n",
            "Epoch 72/120\n",
            "4/4 [==============================] - 0s 15ms/step - loss: 0.8590 - accuracy: 0.7160 - val_loss: 0.8434 - val_accuracy: 0.6856\n",
            "Epoch 73/120\n",
            "4/4 [==============================] - 0s 16ms/step - loss: 0.8536 - accuracy: 0.7135 - val_loss: 0.8242 - val_accuracy: 0.7036\n",
            "Epoch 74/120\n",
            "4/4 [==============================] - 0s 13ms/step - loss: 0.8374 - accuracy: 0.7283 - val_loss: 0.8145 - val_accuracy: 0.7191\n",
            "Epoch 75/120\n",
            "4/4 [==============================] - 0s 14ms/step - loss: 0.8345 - accuracy: 0.7167 - val_loss: 0.8122 - val_accuracy: 0.7139\n",
            "Epoch 76/120\n",
            "4/4 [==============================] - 0s 15ms/step - loss: 0.8234 - accuracy: 0.7315 - val_loss: 0.8167 - val_accuracy: 0.7088\n",
            "Epoch 77/120\n",
            "4/4 [==============================] - 0s 15ms/step - loss: 0.8387 - accuracy: 0.7051 - val_loss: 0.8179 - val_accuracy: 0.7036\n",
            "Epoch 78/120\n",
            "4/4 [==============================] - 0s 16ms/step - loss: 0.8117 - accuracy: 0.7180 - val_loss: 0.8175 - val_accuracy: 0.6959\n",
            "Epoch 79/120\n",
            "4/4 [==============================] - 0s 13ms/step - loss: 0.8120 - accuracy: 0.7328 - val_loss: 0.8202 - val_accuracy: 0.6985\n",
            "Epoch 80/120\n",
            "4/4 [==============================] - 0s 15ms/step - loss: 0.8118 - accuracy: 0.7276 - val_loss: 0.8185 - val_accuracy: 0.6985\n",
            "Epoch 81/120\n",
            "4/4 [==============================] - 0s 14ms/step - loss: 0.8074 - accuracy: 0.7373 - val_loss: 0.8151 - val_accuracy: 0.6985\n",
            "Epoch 82/120\n",
            "4/4 [==============================] - 0s 15ms/step - loss: 0.8143 - accuracy: 0.7289 - val_loss: 0.8123 - val_accuracy: 0.7165\n",
            "Epoch 83/120\n",
            "4/4 [==============================] - 0s 14ms/step - loss: 0.8103 - accuracy: 0.7450 - val_loss: 0.8156 - val_accuracy: 0.7139\n",
            "Epoch 84/120\n",
            "4/4 [==============================] - 0s 14ms/step - loss: 0.8016 - accuracy: 0.7296 - val_loss: 0.8249 - val_accuracy: 0.7113\n",
            "Epoch 85/120\n",
            "4/4 [==============================] - 0s 15ms/step - loss: 0.7998 - accuracy: 0.7341 - val_loss: 0.8280 - val_accuracy: 0.6985\n",
            "Epoch 86/120\n",
            "4/4 [==============================] - 0s 14ms/step - loss: 0.8057 - accuracy: 0.7283 - val_loss: 0.8117 - val_accuracy: 0.7113\n",
            "Epoch 87/120\n",
            "4/4 [==============================] - 0s 14ms/step - loss: 0.7835 - accuracy: 0.7341 - val_loss: 0.7942 - val_accuracy: 0.7268\n",
            "Epoch 88/120\n",
            "4/4 [==============================] - 0s 15ms/step - loss: 0.8094 - accuracy: 0.7315 - val_loss: 0.7887 - val_accuracy: 0.7320\n",
            "Epoch 89/120\n",
            "4/4 [==============================] - 0s 14ms/step - loss: 0.8135 - accuracy: 0.7276 - val_loss: 0.7909 - val_accuracy: 0.7294\n",
            "Epoch 90/120\n",
            "4/4 [==============================] - 0s 14ms/step - loss: 0.7825 - accuracy: 0.7463 - val_loss: 0.8011 - val_accuracy: 0.7165\n",
            "Epoch 91/120\n",
            "4/4 [==============================] - 0s 15ms/step - loss: 0.7949 - accuracy: 0.7347 - val_loss: 0.8099 - val_accuracy: 0.7062\n",
            "Epoch 92/120\n",
            "4/4 [==============================] - 0s 14ms/step - loss: 0.7927 - accuracy: 0.7321 - val_loss: 0.8082 - val_accuracy: 0.7088\n",
            "Epoch 93/120\n",
            "4/4 [==============================] - 0s 18ms/step - loss: 0.7850 - accuracy: 0.7379 - val_loss: 0.7988 - val_accuracy: 0.7345\n",
            "Epoch 94/120\n",
            "4/4 [==============================] - 0s 15ms/step - loss: 0.7883 - accuracy: 0.7424 - val_loss: 0.8026 - val_accuracy: 0.7294\n",
            "Epoch 95/120\n",
            "4/4 [==============================] - 0s 15ms/step - loss: 0.7917 - accuracy: 0.7250 - val_loss: 0.8106 - val_accuracy: 0.7062\n",
            "Epoch 96/120\n",
            "4/4 [==============================] - 0s 15ms/step - loss: 0.7896 - accuracy: 0.7399 - val_loss: 0.8146 - val_accuracy: 0.7010\n",
            "Epoch 97/120\n",
            "4/4 [==============================] - 0s 14ms/step - loss: 0.7938 - accuracy: 0.7283 - val_loss: 0.8143 - val_accuracy: 0.6985\n",
            "Epoch 98/120\n",
            "4/4 [==============================] - 0s 14ms/step - loss: 0.7745 - accuracy: 0.7418 - val_loss: 0.8189 - val_accuracy: 0.6804\n",
            "Epoch 99/120\n",
            "4/4 [==============================] - 0s 15ms/step - loss: 0.7631 - accuracy: 0.7411 - val_loss: 0.8186 - val_accuracy: 0.6881\n",
            "Epoch 100/120\n",
            "4/4 [==============================] - 0s 15ms/step - loss: 0.7682 - accuracy: 0.7553 - val_loss: 0.8089 - val_accuracy: 0.7010\n",
            "Epoch 101/120\n",
            "4/4 [==============================] - 0s 12ms/step - loss: 0.7797 - accuracy: 0.7386 - val_loss: 0.7903 - val_accuracy: 0.7139\n",
            "Epoch 102/120\n",
            "4/4 [==============================] - 0s 12ms/step - loss: 0.7653 - accuracy: 0.7469 - val_loss: 0.7881 - val_accuracy: 0.7191\n",
            "Epoch 103/120\n",
            "4/4 [==============================] - 0s 13ms/step - loss: 0.7675 - accuracy: 0.7457 - val_loss: 0.7882 - val_accuracy: 0.7113\n",
            "Epoch 104/120\n",
            "4/4 [==============================] - 0s 13ms/step - loss: 0.7643 - accuracy: 0.7508 - val_loss: 0.7860 - val_accuracy: 0.7113\n",
            "Epoch 105/120\n",
            "4/4 [==============================] - 0s 12ms/step - loss: 0.7612 - accuracy: 0.7469 - val_loss: 0.7892 - val_accuracy: 0.7216\n",
            "Epoch 106/120\n",
            "4/4 [==============================] - 0s 12ms/step - loss: 0.7473 - accuracy: 0.7482 - val_loss: 0.7918 - val_accuracy: 0.7165\n",
            "Epoch 107/120\n",
            "4/4 [==============================] - 0s 15ms/step - loss: 0.7522 - accuracy: 0.7514 - val_loss: 0.7873 - val_accuracy: 0.7216\n",
            "Epoch 108/120\n",
            "4/4 [==============================] - 0s 12ms/step - loss: 0.7571 - accuracy: 0.7566 - val_loss: 0.7745 - val_accuracy: 0.7345\n",
            "Epoch 109/120\n",
            "4/4 [==============================] - 0s 13ms/step - loss: 0.7665 - accuracy: 0.7457 - val_loss: 0.7656 - val_accuracy: 0.7423\n",
            "Epoch 110/120\n",
            "4/4 [==============================] - 0s 13ms/step - loss: 0.7764 - accuracy: 0.7469 - val_loss: 0.7630 - val_accuracy: 0.7526\n",
            "Epoch 111/120\n",
            "4/4 [==============================] - 0s 13ms/step - loss: 0.7454 - accuracy: 0.7463 - val_loss: 0.7667 - val_accuracy: 0.7526\n",
            "Epoch 112/120\n",
            "4/4 [==============================] - 0s 13ms/step - loss: 0.7471 - accuracy: 0.7605 - val_loss: 0.7705 - val_accuracy: 0.7629\n",
            "Epoch 113/120\n",
            "4/4 [==============================] - 0s 14ms/step - loss: 0.7649 - accuracy: 0.7392 - val_loss: 0.7680 - val_accuracy: 0.7680\n",
            "Epoch 114/120\n",
            "4/4 [==============================] - 0s 12ms/step - loss: 0.7468 - accuracy: 0.7630 - val_loss: 0.7710 - val_accuracy: 0.7680\n",
            "Epoch 115/120\n",
            "4/4 [==============================] - 0s 13ms/step - loss: 0.7430 - accuracy: 0.7534 - val_loss: 0.7759 - val_accuracy: 0.7577\n",
            "Epoch 116/120\n",
            "4/4 [==============================] - 0s 12ms/step - loss: 0.7532 - accuracy: 0.7392 - val_loss: 0.7919 - val_accuracy: 0.7268\n",
            "Epoch 117/120\n",
            "4/4 [==============================] - 0s 13ms/step - loss: 0.7505 - accuracy: 0.7476 - val_loss: 0.8039 - val_accuracy: 0.7113\n",
            "Epoch 118/120\n",
            "4/4 [==============================] - 0s 13ms/step - loss: 0.7445 - accuracy: 0.7489 - val_loss: 0.7987 - val_accuracy: 0.7165\n",
            "Epoch 119/120\n",
            "4/4 [==============================] - 0s 14ms/step - loss: 0.7420 - accuracy: 0.7482 - val_loss: 0.7889 - val_accuracy: 0.7345\n",
            "Epoch 120/120\n",
            "4/4 [==============================] - 0s 13ms/step - loss: 0.7412 - accuracy: 0.7437 - val_loss: 0.7800 - val_accuracy: 0.7397\n"
          ]
        }
      ]
    },
    {
      "cell_type": "markdown",
      "source": [
        "We can see that training and validation accuracy are very close so there is no overfitting in our case."
      ],
      "metadata": {
        "id": "p4oJ96dI-PE9"
      }
    },
    {
      "cell_type": "code",
      "source": [
        "plt.figure()\n",
        "plt.plot(hist2.history['accuracy'])\n",
        "plt.plot(hist2.history['val_accuracy'])\n",
        "plt.xlabel('Epochs')\n",
        "plt.ylabel('loss')\n",
        "plt.legend(['training accuracy', 'validation accuracy'], loc='best')"
      ],
      "metadata": {
        "colab": {
          "base_uri": "https://localhost:8080/",
          "height": 297
        },
        "id": "opLJJsfGvNye",
        "outputId": "3e8c8c3f-0ea9-466f-bd11-37c5b3e3b7cb"
      },
      "execution_count": 36,
      "outputs": [
        {
          "output_type": "execute_result",
          "data": {
            "text/plain": [
              "<matplotlib.legend.Legend at 0x7fc25b0bbe90>"
            ]
          },
          "metadata": {},
          "execution_count": 36
        },
        {
          "output_type": "display_data",
          "data": {
            "image/png": "[encoded data removed]",
            "text/plain": [
              "<Figure size 432x288 with 1 Axes>"
            ]
          },
          "metadata": {
            "needs_background": "light"
          }
        }
      ]
    },
    {
      "cell_type": "markdown",
      "source": [
        "Third Model\n",
        "In the third model I just changed the epochs "
      ],
      "metadata": {
        "id": "Mv_XIe-90KFZ"
      }
    },
    {
      "cell_type": "code",
      "source": [
        "from keras import regularizers\n",
        "\n",
        "original_model4= keras.Sequential([\n",
        " keras.layers.Dense(128, activation ='relu',input_dim=27),\n",
        " keras.layers.Dropout(0.2),\n",
        " keras.layers.Dense(64 , activation ='relu',kernel_regularizer=regularizers.l2(0.001)),\n",
        " keras.layers.Dropout(0.25),\n",
        " keras.layers.Dense(16 , activation ='relu',kernel_regularizer=regularizers.l2(0.002)),\n",
        " keras.layers.Dropout(0.1),\n",
        " keras.layers.Dense(7,activation='softmax')])\n",
        "\n",
        "\n",
        "original_model4.compile(optimizer ='adam',\n",
        "loss ='sparse_categorical_crossentropy',\n",
        "metrics =['accuracy'])\n"
      ],
      "metadata": {
        "id": "H4hJKA3sx-wU"
      },
      "execution_count": 28,
      "outputs": []
    },
    {
      "cell_type": "code",
      "source": [
        "hist4=original_model4.fit(X_train,Y_train,epochs=200,validation_data=(X_test,Y_test))\n"
      ],
      "metadata": {
        "colab": {
          "base_uri": "https://localhost:8080/"
        },
        "id": "h2sYITv_3bc9",
        "outputId": "a01be859-43bf-4ce5-8869-53dcb3b87eb8"
      },
      "execution_count": 29,
      "outputs": [
        {
          "output_type": "stream",
          "name": "stdout",
          "text": [
            "Epoch 1/200\n",
            "49/49 [==============================] - 1s 10ms/step - loss: 1.6874 - accuracy: 0.4359 - val_loss: 1.3709 - val_accuracy: 0.4742\n",
            "Epoch 2/200\n",
            "49/49 [==============================] - 0s 5ms/step - loss: 1.3589 - accuracy: 0.5390 - val_loss: 1.1877 - val_accuracy: 0.5361\n",
            "Epoch 3/200\n",
            "49/49 [==============================] - 0s 6ms/step - loss: 1.2072 - accuracy: 0.6033 - val_loss: 1.0339 - val_accuracy: 0.6727\n",
            "Epoch 4/200\n",
            "49/49 [==============================] - 0s 5ms/step - loss: 1.0934 - accuracy: 0.6465 - val_loss: 0.9595 - val_accuracy: 0.6624\n",
            "Epoch 5/200\n",
            "49/49 [==============================] - 0s 5ms/step - loss: 1.0101 - accuracy: 0.6619 - val_loss: 0.8976 - val_accuracy: 0.6985\n",
            "Epoch 6/200\n",
            "49/49 [==============================] - 0s 5ms/step - loss: 0.9822 - accuracy: 0.6652 - val_loss: 0.8588 - val_accuracy: 0.6985\n",
            "Epoch 7/200\n",
            "49/49 [==============================] - 0s 5ms/step - loss: 0.9304 - accuracy: 0.6890 - val_loss: 0.8371 - val_accuracy: 0.7036\n",
            "Epoch 8/200\n",
            "49/49 [==============================] - 0s 6ms/step - loss: 0.9024 - accuracy: 0.7025 - val_loss: 0.8129 - val_accuracy: 0.7345\n",
            "Epoch 9/200\n",
            "49/49 [==============================] - 0s 6ms/step - loss: 0.8658 - accuracy: 0.7057 - val_loss: 0.8036 - val_accuracy: 0.7371\n",
            "Epoch 10/200\n",
            "49/49 [==============================] - 0s 6ms/step - loss: 0.8537 - accuracy: 0.7167 - val_loss: 0.8228 - val_accuracy: 0.6804\n",
            "Epoch 11/200\n",
            "49/49 [==============================] - 0s 6ms/step - loss: 0.8442 - accuracy: 0.7077 - val_loss: 0.8048 - val_accuracy: 0.7216\n",
            "Epoch 12/200\n",
            "49/49 [==============================] - 0s 6ms/step - loss: 0.8283 - accuracy: 0.7186 - val_loss: 0.7996 - val_accuracy: 0.7036\n",
            "Epoch 13/200\n",
            "49/49 [==============================] - 0s 6ms/step - loss: 0.8403 - accuracy: 0.7102 - val_loss: 0.7724 - val_accuracy: 0.7397\n",
            "Epoch 14/200\n",
            "49/49 [==============================] - 0s 6ms/step - loss: 0.7979 - accuracy: 0.7289 - val_loss: 0.7910 - val_accuracy: 0.7191\n",
            "Epoch 15/200\n",
            "49/49 [==============================] - 0s 5ms/step - loss: 0.7990 - accuracy: 0.7212 - val_loss: 0.7613 - val_accuracy: 0.7448\n",
            "Epoch 16/200\n",
            "49/49 [==============================] - 0s 6ms/step - loss: 0.8078 - accuracy: 0.7225 - val_loss: 0.7465 - val_accuracy: 0.7552\n",
            "Epoch 17/200\n",
            "49/49 [==============================] - 0s 5ms/step - loss: 0.7627 - accuracy: 0.7289 - val_loss: 0.7382 - val_accuracy: 0.7603\n",
            "Epoch 18/200\n",
            "49/49 [==============================] - 0s 6ms/step - loss: 0.7766 - accuracy: 0.7354 - val_loss: 0.7381 - val_accuracy: 0.7577\n",
            "Epoch 19/200\n",
            "49/49 [==============================] - 0s 6ms/step - loss: 0.7523 - accuracy: 0.7308 - val_loss: 0.7433 - val_accuracy: 0.7371\n",
            "Epoch 20/200\n",
            "49/49 [==============================] - 0s 5ms/step - loss: 0.7338 - accuracy: 0.7585 - val_loss: 0.7442 - val_accuracy: 0.7577\n",
            "Epoch 21/200\n",
            "49/49 [==============================] - 0s 5ms/step - loss: 0.7524 - accuracy: 0.7463 - val_loss: 0.7359 - val_accuracy: 0.7448\n",
            "Epoch 22/200\n",
            "49/49 [==============================] - 0s 5ms/step - loss: 0.7219 - accuracy: 0.7444 - val_loss: 0.7396 - val_accuracy: 0.7552\n",
            "Epoch 23/200\n",
            "49/49 [==============================] - 0s 6ms/step - loss: 0.7185 - accuracy: 0.7592 - val_loss: 0.7586 - val_accuracy: 0.7397\n",
            "Epoch 24/200\n",
            "49/49 [==============================] - 0s 5ms/step - loss: 0.7280 - accuracy: 0.7463 - val_loss: 0.7295 - val_accuracy: 0.7526\n",
            "Epoch 25/200\n",
            "49/49 [==============================] - 0s 5ms/step - loss: 0.7172 - accuracy: 0.7598 - val_loss: 0.7340 - val_accuracy: 0.7474\n",
            "Epoch 26/200\n",
            "49/49 [==============================] - 0s 5ms/step - loss: 0.7182 - accuracy: 0.7502 - val_loss: 0.7203 - val_accuracy: 0.7577\n",
            "Epoch 27/200\n",
            "49/49 [==============================] - 0s 6ms/step - loss: 0.6850 - accuracy: 0.7714 - val_loss: 0.7204 - val_accuracy: 0.7500\n",
            "Epoch 28/200\n",
            "49/49 [==============================] - 0s 5ms/step - loss: 0.6829 - accuracy: 0.7611 - val_loss: 0.7484 - val_accuracy: 0.7371\n",
            "Epoch 29/200\n",
            "49/49 [==============================] - 0s 6ms/step - loss: 0.6869 - accuracy: 0.7560 - val_loss: 0.7296 - val_accuracy: 0.7552\n",
            "Epoch 30/200\n",
            "49/49 [==============================] - 0s 5ms/step - loss: 0.6820 - accuracy: 0.7592 - val_loss: 0.7093 - val_accuracy: 0.7603\n",
            "Epoch 31/200\n",
            "49/49 [==============================] - 0s 5ms/step - loss: 0.6691 - accuracy: 0.7708 - val_loss: 0.7032 - val_accuracy: 0.7552\n",
            "Epoch 32/200\n",
            "49/49 [==============================] - 0s 5ms/step - loss: 0.6684 - accuracy: 0.7675 - val_loss: 0.7332 - val_accuracy: 0.7500\n",
            "Epoch 33/200\n",
            "49/49 [==============================] - 0s 6ms/step - loss: 0.6619 - accuracy: 0.7675 - val_loss: 0.7033 - val_accuracy: 0.7629\n",
            "Epoch 34/200\n",
            "49/49 [==============================] - 0s 6ms/step - loss: 0.6597 - accuracy: 0.7669 - val_loss: 0.7273 - val_accuracy: 0.7242\n",
            "Epoch 35/200\n",
            "49/49 [==============================] - 0s 6ms/step - loss: 0.6437 - accuracy: 0.7701 - val_loss: 0.6997 - val_accuracy: 0.7526\n",
            "Epoch 36/200\n",
            "49/49 [==============================] - 0s 5ms/step - loss: 0.6405 - accuracy: 0.7836 - val_loss: 0.7034 - val_accuracy: 0.7603\n",
            "Epoch 37/200\n",
            "49/49 [==============================] - 0s 6ms/step - loss: 0.6587 - accuracy: 0.7778 - val_loss: 0.7138 - val_accuracy: 0.7474\n",
            "Epoch 38/200\n",
            "49/49 [==============================] - 0s 6ms/step - loss: 0.6417 - accuracy: 0.7721 - val_loss: 0.7161 - val_accuracy: 0.7423\n",
            "Epoch 39/200\n",
            "49/49 [==============================] - 0s 6ms/step - loss: 0.6395 - accuracy: 0.7772 - val_loss: 0.7232 - val_accuracy: 0.7371\n",
            "Epoch 40/200\n",
            "49/49 [==============================] - 0s 6ms/step - loss: 0.6262 - accuracy: 0.7920 - val_loss: 0.7167 - val_accuracy: 0.7629\n",
            "Epoch 41/200\n",
            "49/49 [==============================] - 0s 6ms/step - loss: 0.6307 - accuracy: 0.7959 - val_loss: 0.7212 - val_accuracy: 0.7423\n",
            "Epoch 42/200\n",
            "49/49 [==============================] - 0s 6ms/step - loss: 0.6284 - accuracy: 0.7901 - val_loss: 0.7376 - val_accuracy: 0.7500\n",
            "Epoch 43/200\n",
            "49/49 [==============================] - 0s 6ms/step - loss: 0.6138 - accuracy: 0.7849 - val_loss: 0.7120 - val_accuracy: 0.7552\n",
            "Epoch 44/200\n",
            "49/49 [==============================] - 0s 5ms/step - loss: 0.5995 - accuracy: 0.8023 - val_loss: 0.7273 - val_accuracy: 0.7397\n",
            "Epoch 45/200\n",
            "49/49 [==============================] - 0s 5ms/step - loss: 0.5903 - accuracy: 0.8017 - val_loss: 0.7233 - val_accuracy: 0.7448\n",
            "Epoch 46/200\n",
            "49/49 [==============================] - 0s 5ms/step - loss: 0.6274 - accuracy: 0.7914 - val_loss: 0.7036 - val_accuracy: 0.7680\n",
            "Epoch 47/200\n",
            "49/49 [==============================] - 0s 5ms/step - loss: 0.6055 - accuracy: 0.7914 - val_loss: 0.7157 - val_accuracy: 0.7655\n",
            "Epoch 48/200\n",
            "49/49 [==============================] - 0s 5ms/step - loss: 0.6057 - accuracy: 0.8017 - val_loss: 0.7018 - val_accuracy: 0.7706\n",
            "Epoch 49/200\n",
            "49/49 [==============================] - 0s 5ms/step - loss: 0.6035 - accuracy: 0.7997 - val_loss: 0.7032 - val_accuracy: 0.7680\n",
            "Epoch 50/200\n",
            "49/49 [==============================] - 0s 5ms/step - loss: 0.6348 - accuracy: 0.7656 - val_loss: 0.6972 - val_accuracy: 0.7706\n",
            "Epoch 51/200\n",
            "49/49 [==============================] - 0s 5ms/step - loss: 0.5867 - accuracy: 0.8075 - val_loss: 0.7408 - val_accuracy: 0.7680\n",
            "Epoch 52/200\n",
            "49/49 [==============================] - 0s 5ms/step - loss: 0.6129 - accuracy: 0.7862 - val_loss: 0.6924 - val_accuracy: 0.7732\n",
            "Epoch 53/200\n",
            "49/49 [==============================] - 0s 5ms/step - loss: 0.5775 - accuracy: 0.8062 - val_loss: 0.7014 - val_accuracy: 0.7706\n",
            "Epoch 54/200\n",
            "49/49 [==============================] - 0s 5ms/step - loss: 0.6049 - accuracy: 0.7888 - val_loss: 0.7030 - val_accuracy: 0.7680\n",
            "Epoch 55/200\n",
            "49/49 [==============================] - 0s 6ms/step - loss: 0.5956 - accuracy: 0.7914 - val_loss: 0.6995 - val_accuracy: 0.7680\n",
            "Epoch 56/200\n",
            "49/49 [==============================] - 0s 6ms/step - loss: 0.5765 - accuracy: 0.8100 - val_loss: 0.7016 - val_accuracy: 0.7577\n",
            "Epoch 57/200\n",
            "49/49 [==============================] - 0s 5ms/step - loss: 0.5740 - accuracy: 0.8023 - val_loss: 0.7217 - val_accuracy: 0.7758\n",
            "Epoch 58/200\n",
            "49/49 [==============================] - 0s 6ms/step - loss: 0.5710 - accuracy: 0.7965 - val_loss: 0.7244 - val_accuracy: 0.7809\n",
            "Epoch 59/200\n",
            "49/49 [==============================] - 0s 5ms/step - loss: 0.5608 - accuracy: 0.8133 - val_loss: 0.7297 - val_accuracy: 0.7680\n",
            "Epoch 60/200\n",
            "49/49 [==============================] - 0s 5ms/step - loss: 0.5747 - accuracy: 0.8004 - val_loss: 0.7250 - val_accuracy: 0.7655\n",
            "Epoch 61/200\n",
            "49/49 [==============================] - 0s 6ms/step - loss: 0.5703 - accuracy: 0.7978 - val_loss: 0.6980 - val_accuracy: 0.7680\n",
            "Epoch 62/200\n",
            "49/49 [==============================] - 0s 5ms/step - loss: 0.5577 - accuracy: 0.8094 - val_loss: 0.7199 - val_accuracy: 0.7629\n",
            "Epoch 63/200\n",
            "49/49 [==============================] - 0s 5ms/step - loss: 0.5808 - accuracy: 0.8223 - val_loss: 0.7187 - val_accuracy: 0.7732\n",
            "Epoch 64/200\n",
            "49/49 [==============================] - 0s 6ms/step - loss: 0.5571 - accuracy: 0.8158 - val_loss: 0.7151 - val_accuracy: 0.7655\n",
            "Epoch 65/200\n",
            "49/49 [==============================] - 0s 6ms/step - loss: 0.5730 - accuracy: 0.8030 - val_loss: 0.6980 - val_accuracy: 0.7706\n",
            "Epoch 66/200\n",
            "49/49 [==============================] - 0s 6ms/step - loss: 0.5424 - accuracy: 0.8216 - val_loss: 0.6963 - val_accuracy: 0.7680\n",
            "Epoch 67/200\n",
            "49/49 [==============================] - 0s 6ms/step - loss: 0.5612 - accuracy: 0.8152 - val_loss: 0.6991 - val_accuracy: 0.7809\n",
            "Epoch 68/200\n",
            "49/49 [==============================] - 0s 6ms/step - loss: 0.5478 - accuracy: 0.8223 - val_loss: 0.7091 - val_accuracy: 0.7680\n",
            "Epoch 69/200\n",
            "49/49 [==============================] - 0s 6ms/step - loss: 0.5471 - accuracy: 0.8100 - val_loss: 0.7265 - val_accuracy: 0.7552\n",
            "Epoch 70/200\n",
            "49/49 [==============================] - 0s 6ms/step - loss: 0.5588 - accuracy: 0.8171 - val_loss: 0.6908 - val_accuracy: 0.7655\n",
            "Epoch 71/200\n",
            "49/49 [==============================] - 0s 6ms/step - loss: 0.5427 - accuracy: 0.8081 - val_loss: 0.7101 - val_accuracy: 0.7809\n",
            "Epoch 72/200\n",
            "49/49 [==============================] - 0s 5ms/step - loss: 0.5282 - accuracy: 0.8081 - val_loss: 0.7171 - val_accuracy: 0.7603\n",
            "Epoch 73/200\n",
            "49/49 [==============================] - 0s 6ms/step - loss: 0.5430 - accuracy: 0.8171 - val_loss: 0.7145 - val_accuracy: 0.7784\n",
            "Epoch 74/200\n",
            "49/49 [==============================] - 0s 6ms/step - loss: 0.5268 - accuracy: 0.8319 - val_loss: 0.6869 - val_accuracy: 0.7861\n",
            "Epoch 75/200\n",
            "49/49 [==============================] - 0s 5ms/step - loss: 0.5327 - accuracy: 0.8300 - val_loss: 0.6958 - val_accuracy: 0.7706\n",
            "Epoch 76/200\n",
            "49/49 [==============================] - 0s 6ms/step - loss: 0.5188 - accuracy: 0.8313 - val_loss: 0.7049 - val_accuracy: 0.7784\n",
            "Epoch 77/200\n",
            "49/49 [==============================] - 0s 5ms/step - loss: 0.5280 - accuracy: 0.8229 - val_loss: 0.6849 - val_accuracy: 0.7732\n",
            "Epoch 78/200\n",
            "49/49 [==============================] - 0s 6ms/step - loss: 0.5324 - accuracy: 0.8210 - val_loss: 0.7072 - val_accuracy: 0.7809\n",
            "Epoch 79/200\n",
            "49/49 [==============================] - 0s 6ms/step - loss: 0.5282 - accuracy: 0.8300 - val_loss: 0.6991 - val_accuracy: 0.7784\n",
            "Epoch 80/200\n",
            "49/49 [==============================] - 0s 5ms/step - loss: 0.5061 - accuracy: 0.8364 - val_loss: 0.7130 - val_accuracy: 0.7706\n",
            "Epoch 81/200\n",
            "49/49 [==============================] - 0s 5ms/step - loss: 0.5085 - accuracy: 0.8281 - val_loss: 0.7204 - val_accuracy: 0.7784\n",
            "Epoch 82/200\n",
            "49/49 [==============================] - 0s 5ms/step - loss: 0.5242 - accuracy: 0.8242 - val_loss: 0.7202 - val_accuracy: 0.7526\n",
            "Epoch 83/200\n",
            "49/49 [==============================] - 0s 5ms/step - loss: 0.5108 - accuracy: 0.8364 - val_loss: 0.7146 - val_accuracy: 0.7809\n",
            "Epoch 84/200\n",
            "49/49 [==============================] - 0s 5ms/step - loss: 0.5360 - accuracy: 0.8210 - val_loss: 0.7022 - val_accuracy: 0.7732\n",
            "Epoch 85/200\n",
            "49/49 [==============================] - 0s 5ms/step - loss: 0.5258 - accuracy: 0.8268 - val_loss: 0.6965 - val_accuracy: 0.7835\n",
            "Epoch 86/200\n",
            "49/49 [==============================] - 0s 5ms/step - loss: 0.5177 - accuracy: 0.8364 - val_loss: 0.7132 - val_accuracy: 0.7629\n",
            "Epoch 87/200\n",
            "49/49 [==============================] - 0s 5ms/step - loss: 0.5222 - accuracy: 0.8307 - val_loss: 0.6901 - val_accuracy: 0.7758\n",
            "Epoch 88/200\n",
            "49/49 [==============================] - 0s 5ms/step - loss: 0.5119 - accuracy: 0.8294 - val_loss: 0.7066 - val_accuracy: 0.7784\n",
            "Epoch 89/200\n",
            "49/49 [==============================] - 0s 5ms/step - loss: 0.5203 - accuracy: 0.8236 - val_loss: 0.7164 - val_accuracy: 0.7680\n",
            "Epoch 90/200\n",
            "49/49 [==============================] - 0s 6ms/step - loss: 0.4946 - accuracy: 0.8307 - val_loss: 0.7218 - val_accuracy: 0.7655\n",
            "Epoch 91/200\n",
            "49/49 [==============================] - 0s 6ms/step - loss: 0.4962 - accuracy: 0.8371 - val_loss: 0.7298 - val_accuracy: 0.7680\n",
            "Epoch 92/200\n",
            "49/49 [==============================] - 0s 6ms/step - loss: 0.4962 - accuracy: 0.8384 - val_loss: 0.7230 - val_accuracy: 0.7809\n",
            "Epoch 93/200\n",
            "49/49 [==============================] - 0s 6ms/step - loss: 0.4880 - accuracy: 0.8339 - val_loss: 0.7018 - val_accuracy: 0.7732\n",
            "Epoch 94/200\n",
            "49/49 [==============================] - 0s 6ms/step - loss: 0.4962 - accuracy: 0.8339 - val_loss: 0.6955 - val_accuracy: 0.7784\n",
            "Epoch 95/200\n",
            "49/49 [==============================] - 0s 6ms/step - loss: 0.4967 - accuracy: 0.8339 - val_loss: 0.7042 - val_accuracy: 0.7758\n",
            "Epoch 96/200\n",
            "49/49 [==============================] - 0s 6ms/step - loss: 0.4869 - accuracy: 0.8435 - val_loss: 0.7185 - val_accuracy: 0.7809\n",
            "Epoch 97/200\n",
            "49/49 [==============================] - 0s 5ms/step - loss: 0.4900 - accuracy: 0.8455 - val_loss: 0.7052 - val_accuracy: 0.7758\n",
            "Epoch 98/200\n",
            "49/49 [==============================] - 0s 6ms/step - loss: 0.4908 - accuracy: 0.8397 - val_loss: 0.7106 - val_accuracy: 0.7758\n",
            "Epoch 99/200\n",
            "49/49 [==============================] - 0s 6ms/step - loss: 0.4952 - accuracy: 0.8416 - val_loss: 0.7277 - val_accuracy: 0.7629\n",
            "Epoch 100/200\n",
            "49/49 [==============================] - 0s 5ms/step - loss: 0.4917 - accuracy: 0.8422 - val_loss: 0.6953 - val_accuracy: 0.7784\n",
            "Epoch 101/200\n",
            "49/49 [==============================] - 0s 5ms/step - loss: 0.4733 - accuracy: 0.8461 - val_loss: 0.7177 - val_accuracy: 0.7784\n",
            "Epoch 102/200\n",
            "49/49 [==============================] - 0s 5ms/step - loss: 0.4822 - accuracy: 0.8519 - val_loss: 0.7056 - val_accuracy: 0.7706\n",
            "Epoch 103/200\n",
            "49/49 [==============================] - 0s 6ms/step - loss: 0.4743 - accuracy: 0.8455 - val_loss: 0.6956 - val_accuracy: 0.7861\n",
            "Epoch 104/200\n",
            "49/49 [==============================] - 0s 6ms/step - loss: 0.4923 - accuracy: 0.8390 - val_loss: 0.7185 - val_accuracy: 0.7835\n",
            "Epoch 105/200\n",
            "49/49 [==============================] - 0s 5ms/step - loss: 0.4664 - accuracy: 0.8474 - val_loss: 0.7163 - val_accuracy: 0.7809\n",
            "Epoch 106/200\n",
            "49/49 [==============================] - 0s 6ms/step - loss: 0.4826 - accuracy: 0.8377 - val_loss: 0.7131 - val_accuracy: 0.7835\n",
            "Epoch 107/200\n",
            "49/49 [==============================] - 0s 6ms/step - loss: 0.4805 - accuracy: 0.8461 - val_loss: 0.6865 - val_accuracy: 0.7732\n",
            "Epoch 108/200\n",
            "49/49 [==============================] - 0s 5ms/step - loss: 0.4455 - accuracy: 0.8545 - val_loss: 0.7058 - val_accuracy: 0.7809\n",
            "Epoch 109/200\n",
            "49/49 [==============================] - 0s 5ms/step - loss: 0.4567 - accuracy: 0.8474 - val_loss: 0.7195 - val_accuracy: 0.7758\n",
            "Epoch 110/200\n",
            "49/49 [==============================] - 0s 5ms/step - loss: 0.4829 - accuracy: 0.8345 - val_loss: 0.7138 - val_accuracy: 0.7680\n",
            "Epoch 111/200\n",
            "49/49 [==============================] - 0s 5ms/step - loss: 0.4648 - accuracy: 0.8461 - val_loss: 0.7245 - val_accuracy: 0.7758\n",
            "Epoch 112/200\n",
            "49/49 [==============================] - 0s 5ms/step - loss: 0.4737 - accuracy: 0.8487 - val_loss: 0.7497 - val_accuracy: 0.7603\n",
            "Epoch 113/200\n",
            "49/49 [==============================] - 0s 5ms/step - loss: 0.4636 - accuracy: 0.8487 - val_loss: 0.7314 - val_accuracy: 0.7706\n",
            "Epoch 114/200\n",
            "49/49 [==============================] - 0s 6ms/step - loss: 0.4702 - accuracy: 0.8410 - val_loss: 0.7342 - val_accuracy: 0.7706\n",
            "Epoch 115/200\n",
            "49/49 [==============================] - 0s 5ms/step - loss: 0.4708 - accuracy: 0.8480 - val_loss: 0.7041 - val_accuracy: 0.7758\n",
            "Epoch 116/200\n",
            "49/49 [==============================] - 0s 5ms/step - loss: 0.4535 - accuracy: 0.8628 - val_loss: 0.7118 - val_accuracy: 0.7861\n",
            "Epoch 117/200\n",
            "49/49 [==============================] - 0s 6ms/step - loss: 0.4425 - accuracy: 0.8545 - val_loss: 0.7608 - val_accuracy: 0.7629\n",
            "Epoch 118/200\n",
            "49/49 [==============================] - 0s 6ms/step - loss: 0.4527 - accuracy: 0.8487 - val_loss: 0.7463 - val_accuracy: 0.7732\n",
            "Epoch 119/200\n",
            "49/49 [==============================] - 0s 6ms/step - loss: 0.4628 - accuracy: 0.8532 - val_loss: 0.7276 - val_accuracy: 0.7809\n",
            "Epoch 120/200\n",
            "49/49 [==============================] - 0s 5ms/step - loss: 0.4427 - accuracy: 0.8609 - val_loss: 0.7228 - val_accuracy: 0.7706\n",
            "Epoch 121/200\n",
            "49/49 [==============================] - 0s 6ms/step - loss: 0.4459 - accuracy: 0.8616 - val_loss: 0.7222 - val_accuracy: 0.7938\n",
            "Epoch 122/200\n",
            "49/49 [==============================] - 0s 6ms/step - loss: 0.4570 - accuracy: 0.8480 - val_loss: 0.7176 - val_accuracy: 0.7732\n",
            "Epoch 123/200\n",
            "49/49 [==============================] - 0s 6ms/step - loss: 0.4710 - accuracy: 0.8609 - val_loss: 0.7260 - val_accuracy: 0.7835\n",
            "Epoch 124/200\n",
            "49/49 [==============================] - 0s 6ms/step - loss: 0.4565 - accuracy: 0.8583 - val_loss: 0.7396 - val_accuracy: 0.7758\n",
            "Epoch 125/200\n",
            "49/49 [==============================] - 0s 6ms/step - loss: 0.4708 - accuracy: 0.8416 - val_loss: 0.7232 - val_accuracy: 0.7887\n",
            "Epoch 126/200\n",
            "49/49 [==============================] - 0s 6ms/step - loss: 0.4553 - accuracy: 0.8609 - val_loss: 0.7415 - val_accuracy: 0.7861\n",
            "Epoch 127/200\n",
            "49/49 [==============================] - 0s 6ms/step - loss: 0.4399 - accuracy: 0.8616 - val_loss: 0.7669 - val_accuracy: 0.7835\n",
            "Epoch 128/200\n",
            "49/49 [==============================] - 0s 6ms/step - loss: 0.4515 - accuracy: 0.8551 - val_loss: 0.7875 - val_accuracy: 0.7655\n",
            "Epoch 129/200\n",
            "49/49 [==============================] - 0s 6ms/step - loss: 0.4448 - accuracy: 0.8545 - val_loss: 0.7323 - val_accuracy: 0.7732\n",
            "Epoch 130/200\n",
            "49/49 [==============================] - 0s 5ms/step - loss: 0.4485 - accuracy: 0.8596 - val_loss: 0.7313 - val_accuracy: 0.7887\n",
            "Epoch 131/200\n",
            "49/49 [==============================] - 0s 6ms/step - loss: 0.4527 - accuracy: 0.8558 - val_loss: 0.7343 - val_accuracy: 0.8015\n",
            "Epoch 132/200\n",
            "49/49 [==============================] - 0s 6ms/step - loss: 0.4387 - accuracy: 0.8654 - val_loss: 0.7229 - val_accuracy: 0.7732\n",
            "Epoch 133/200\n",
            "49/49 [==============================] - 0s 5ms/step - loss: 0.4512 - accuracy: 0.8564 - val_loss: 0.7426 - val_accuracy: 0.7732\n",
            "Epoch 134/200\n",
            "49/49 [==============================] - 0s 6ms/step - loss: 0.4391 - accuracy: 0.8641 - val_loss: 0.7230 - val_accuracy: 0.7861\n",
            "Epoch 135/200\n",
            "49/49 [==============================] - 0s 6ms/step - loss: 0.4350 - accuracy: 0.8706 - val_loss: 0.7594 - val_accuracy: 0.7861\n",
            "Epoch 136/200\n",
            "49/49 [==============================] - 0s 6ms/step - loss: 0.4376 - accuracy: 0.8719 - val_loss: 0.7519 - val_accuracy: 0.7835\n",
            "Epoch 137/200\n",
            "49/49 [==============================] - 0s 6ms/step - loss: 0.4427 - accuracy: 0.8628 - val_loss: 0.7310 - val_accuracy: 0.7887\n",
            "Epoch 138/200\n",
            "49/49 [==============================] - 0s 6ms/step - loss: 0.4263 - accuracy: 0.8680 - val_loss: 0.7212 - val_accuracy: 0.7809\n",
            "Epoch 139/200\n",
            "49/49 [==============================] - 0s 5ms/step - loss: 0.4234 - accuracy: 0.8622 - val_loss: 0.7588 - val_accuracy: 0.7758\n",
            "Epoch 140/200\n",
            "49/49 [==============================] - 0s 6ms/step - loss: 0.4417 - accuracy: 0.8538 - val_loss: 0.7477 - val_accuracy: 0.7861\n",
            "Epoch 141/200\n",
            "49/49 [==============================] - 0s 6ms/step - loss: 0.4367 - accuracy: 0.8564 - val_loss: 0.7451 - val_accuracy: 0.7887\n",
            "Epoch 142/200\n",
            "49/49 [==============================] - 0s 5ms/step - loss: 0.4291 - accuracy: 0.8641 - val_loss: 0.7203 - val_accuracy: 0.7784\n",
            "Epoch 143/200\n",
            "49/49 [==============================] - 0s 5ms/step - loss: 0.4387 - accuracy: 0.8654 - val_loss: 0.7377 - val_accuracy: 0.7758\n",
            "Epoch 144/200\n",
            "49/49 [==============================] - 0s 5ms/step - loss: 0.4424 - accuracy: 0.8583 - val_loss: 0.7460 - val_accuracy: 0.7732\n",
            "Epoch 145/200\n",
            "49/49 [==============================] - 0s 6ms/step - loss: 0.4109 - accuracy: 0.8731 - val_loss: 0.7367 - val_accuracy: 0.7758\n",
            "Epoch 146/200\n",
            "49/49 [==============================] - 0s 6ms/step - loss: 0.4216 - accuracy: 0.8674 - val_loss: 0.7350 - val_accuracy: 0.7706\n",
            "Epoch 147/200\n",
            "49/49 [==============================] - 0s 6ms/step - loss: 0.4212 - accuracy: 0.8628 - val_loss: 0.7483 - val_accuracy: 0.7861\n",
            "Epoch 148/200\n",
            "49/49 [==============================] - 0s 6ms/step - loss: 0.4117 - accuracy: 0.8770 - val_loss: 0.7447 - val_accuracy: 0.7912\n",
            "Epoch 149/200\n",
            "49/49 [==============================] - 0s 6ms/step - loss: 0.4090 - accuracy: 0.8731 - val_loss: 0.7508 - val_accuracy: 0.7809\n",
            "Epoch 150/200\n",
            "49/49 [==============================] - 0s 7ms/step - loss: 0.4383 - accuracy: 0.8648 - val_loss: 0.8080 - val_accuracy: 0.7732\n",
            "Epoch 151/200\n",
            "49/49 [==============================] - 0s 6ms/step - loss: 0.4329 - accuracy: 0.8635 - val_loss: 0.7394 - val_accuracy: 0.7732\n",
            "Epoch 152/200\n",
            "49/49 [==============================] - 0s 6ms/step - loss: 0.4199 - accuracy: 0.8609 - val_loss: 0.7621 - val_accuracy: 0.7758\n",
            "Epoch 153/200\n",
            "49/49 [==============================] - 0s 5ms/step - loss: 0.4137 - accuracy: 0.8661 - val_loss: 0.7649 - val_accuracy: 0.7835\n",
            "Epoch 154/200\n",
            "49/49 [==============================] - 0s 6ms/step - loss: 0.4230 - accuracy: 0.8667 - val_loss: 0.7555 - val_accuracy: 0.7732\n",
            "Epoch 155/200\n",
            "49/49 [==============================] - 0s 5ms/step - loss: 0.4408 - accuracy: 0.8545 - val_loss: 0.7523 - val_accuracy: 0.7861\n",
            "Epoch 156/200\n",
            "49/49 [==============================] - 0s 6ms/step - loss: 0.4294 - accuracy: 0.8693 - val_loss: 0.7496 - val_accuracy: 0.7861\n",
            "Epoch 157/200\n",
            "49/49 [==============================] - 0s 5ms/step - loss: 0.4130 - accuracy: 0.8674 - val_loss: 0.7681 - val_accuracy: 0.7912\n",
            "Epoch 158/200\n",
            "49/49 [==============================] - 0s 5ms/step - loss: 0.4109 - accuracy: 0.8719 - val_loss: 0.7716 - val_accuracy: 0.7758\n",
            "Epoch 159/200\n",
            "49/49 [==============================] - 0s 6ms/step - loss: 0.4312 - accuracy: 0.8596 - val_loss: 0.7612 - val_accuracy: 0.7835\n",
            "Epoch 160/200\n",
            "49/49 [==============================] - 0s 6ms/step - loss: 0.4203 - accuracy: 0.8641 - val_loss: 0.7446 - val_accuracy: 0.7938\n",
            "Epoch 161/200\n",
            "49/49 [==============================] - 0s 5ms/step - loss: 0.4072 - accuracy: 0.8744 - val_loss: 0.7372 - val_accuracy: 0.7887\n",
            "Epoch 162/200\n",
            "49/49 [==============================] - 0s 6ms/step - loss: 0.4177 - accuracy: 0.8712 - val_loss: 0.7803 - val_accuracy: 0.7629\n",
            "Epoch 163/200\n",
            "49/49 [==============================] - 0s 6ms/step - loss: 0.4194 - accuracy: 0.8635 - val_loss: 0.7434 - val_accuracy: 0.7809\n",
            "Epoch 164/200\n",
            "49/49 [==============================] - 0s 5ms/step - loss: 0.4161 - accuracy: 0.8686 - val_loss: 0.7307 - val_accuracy: 0.7835\n",
            "Epoch 165/200\n",
            "49/49 [==============================] - 0s 6ms/step - loss: 0.4033 - accuracy: 0.8835 - val_loss: 0.7294 - val_accuracy: 0.7861\n",
            "Epoch 166/200\n",
            "49/49 [==============================] - 0s 6ms/step - loss: 0.4219 - accuracy: 0.8706 - val_loss: 0.7211 - val_accuracy: 0.7784\n",
            "Epoch 167/200\n",
            "49/49 [==============================] - 0s 5ms/step - loss: 0.3910 - accuracy: 0.8751 - val_loss: 0.7818 - val_accuracy: 0.7629\n",
            "Epoch 168/200\n",
            "49/49 [==============================] - 0s 6ms/step - loss: 0.4238 - accuracy: 0.8622 - val_loss: 0.7289 - val_accuracy: 0.7887\n",
            "Epoch 169/200\n",
            "49/49 [==============================] - 0s 5ms/step - loss: 0.4215 - accuracy: 0.8635 - val_loss: 0.7311 - val_accuracy: 0.7887\n",
            "Epoch 170/200\n",
            "49/49 [==============================] - 0s 6ms/step - loss: 0.4020 - accuracy: 0.8686 - val_loss: 0.7582 - val_accuracy: 0.7809\n",
            "Epoch 171/200\n",
            "49/49 [==============================] - 0s 6ms/step - loss: 0.4183 - accuracy: 0.8654 - val_loss: 0.7491 - val_accuracy: 0.7758\n",
            "Epoch 172/200\n",
            "49/49 [==============================] - 0s 5ms/step - loss: 0.3848 - accuracy: 0.8841 - val_loss: 0.7495 - val_accuracy: 0.7835\n",
            "Epoch 173/200\n",
            "49/49 [==============================] - 0s 5ms/step - loss: 0.3991 - accuracy: 0.8770 - val_loss: 0.7472 - val_accuracy: 0.7912\n",
            "Epoch 174/200\n",
            "49/49 [==============================] - 0s 5ms/step - loss: 0.3952 - accuracy: 0.8802 - val_loss: 0.7417 - val_accuracy: 0.7758\n",
            "Epoch 175/200\n",
            "49/49 [==============================] - 0s 5ms/step - loss: 0.4098 - accuracy: 0.8744 - val_loss: 0.7471 - val_accuracy: 0.7809\n",
            "Epoch 176/200\n",
            "49/49 [==============================] - 0s 6ms/step - loss: 0.4115 - accuracy: 0.8789 - val_loss: 0.7474 - val_accuracy: 0.7784\n",
            "Epoch 177/200\n",
            "49/49 [==============================] - 0s 6ms/step - loss: 0.3807 - accuracy: 0.8912 - val_loss: 0.7374 - val_accuracy: 0.7912\n",
            "Epoch 178/200\n",
            "49/49 [==============================] - 0s 6ms/step - loss: 0.4012 - accuracy: 0.8847 - val_loss: 0.7701 - val_accuracy: 0.7809\n",
            "Epoch 179/200\n",
            "49/49 [==============================] - 0s 6ms/step - loss: 0.3950 - accuracy: 0.8809 - val_loss: 0.7610 - val_accuracy: 0.7964\n",
            "Epoch 180/200\n",
            "49/49 [==============================] - 0s 6ms/step - loss: 0.4062 - accuracy: 0.8719 - val_loss: 0.7591 - val_accuracy: 0.7784\n",
            "Epoch 181/200\n",
            "49/49 [==============================] - 0s 6ms/step - loss: 0.3973 - accuracy: 0.8835 - val_loss: 0.7993 - val_accuracy: 0.7784\n",
            "Epoch 182/200\n",
            "49/49 [==============================] - 0s 6ms/step - loss: 0.4013 - accuracy: 0.8738 - val_loss: 0.7647 - val_accuracy: 0.7680\n",
            "Epoch 183/200\n",
            "49/49 [==============================] - 0s 6ms/step - loss: 0.3724 - accuracy: 0.8886 - val_loss: 0.7866 - val_accuracy: 0.7732\n",
            "Epoch 184/200\n",
            "49/49 [==============================] - 0s 6ms/step - loss: 0.4070 - accuracy: 0.8777 - val_loss: 0.8106 - val_accuracy: 0.7758\n",
            "Epoch 185/200\n",
            "49/49 [==============================] - 0s 5ms/step - loss: 0.4097 - accuracy: 0.8777 - val_loss: 0.7991 - val_accuracy: 0.7655\n",
            "Epoch 186/200\n",
            "49/49 [==============================] - 0s 5ms/step - loss: 0.4039 - accuracy: 0.8764 - val_loss: 0.7475 - val_accuracy: 0.7861\n",
            "Epoch 187/200\n",
            "49/49 [==============================] - 0s 5ms/step - loss: 0.3967 - accuracy: 0.8712 - val_loss: 0.7339 - val_accuracy: 0.7784\n",
            "Epoch 188/200\n",
            "49/49 [==============================] - 0s 5ms/step - loss: 0.3939 - accuracy: 0.8770 - val_loss: 0.7627 - val_accuracy: 0.7990\n",
            "Epoch 189/200\n",
            "49/49 [==============================] - 0s 5ms/step - loss: 0.4069 - accuracy: 0.8654 - val_loss: 0.7539 - val_accuracy: 0.7680\n",
            "Epoch 190/200\n",
            "49/49 [==============================] - 0s 6ms/step - loss: 0.3876 - accuracy: 0.8815 - val_loss: 0.7541 - val_accuracy: 0.7861\n",
            "Epoch 191/200\n",
            "49/49 [==============================] - 0s 6ms/step - loss: 0.4009 - accuracy: 0.8770 - val_loss: 0.7670 - val_accuracy: 0.7758\n",
            "Epoch 192/200\n",
            "49/49 [==============================] - 0s 6ms/step - loss: 0.3765 - accuracy: 0.8905 - val_loss: 0.7604 - val_accuracy: 0.7938\n",
            "Epoch 193/200\n",
            "49/49 [==============================] - 0s 6ms/step - loss: 0.3931 - accuracy: 0.8770 - val_loss: 0.7648 - val_accuracy: 0.7732\n",
            "Epoch 194/200\n",
            "49/49 [==============================] - 0s 6ms/step - loss: 0.3976 - accuracy: 0.8789 - val_loss: 0.7596 - val_accuracy: 0.7732\n",
            "Epoch 195/200\n",
            "49/49 [==============================] - 0s 5ms/step - loss: 0.3720 - accuracy: 0.8854 - val_loss: 0.8186 - val_accuracy: 0.7680\n",
            "Epoch 196/200\n",
            "49/49 [==============================] - 0s 6ms/step - loss: 0.3797 - accuracy: 0.8822 - val_loss: 0.7819 - val_accuracy: 0.7861\n",
            "Epoch 197/200\n",
            "49/49 [==============================] - 0s 5ms/step - loss: 0.3758 - accuracy: 0.8931 - val_loss: 0.7648 - val_accuracy: 0.7835\n",
            "Epoch 198/200\n",
            "49/49 [==============================] - 0s 6ms/step - loss: 0.3858 - accuracy: 0.8802 - val_loss: 0.7747 - val_accuracy: 0.7784\n",
            "Epoch 199/200\n",
            "49/49 [==============================] - 0s 6ms/step - loss: 0.3807 - accuracy: 0.8867 - val_loss: 0.7816 - val_accuracy: 0.7680\n",
            "Epoch 200/200\n",
            "49/49 [==============================] - 0s 5ms/step - loss: 0.3731 - accuracy: 0.8892 - val_loss: 0.7661 - val_accuracy: 0.7835\n"
          ]
        }
      ]
    },
    {
      "cell_type": "markdown",
      "source": [
        "We can see that our model start to overfit but we have best results for our case. But in real case if we really want to predict with some features we cannot use this model"
      ],
      "metadata": {
        "id": "wPkJdrNT_4JV"
      }
    },
    {
      "cell_type": "code",
      "source": [
        "plt.figure()\n",
        "plt.plot(hist4.history['accuracy'])\n",
        "plt.plot(hist4.history['val_accuracy'])\n",
        "plt.xlabel('Epochs')\n",
        "plt.ylabel('loss')\n",
        "plt.legend(['training accuracy', 'validation accuracy'], loc='best')"
      ],
      "metadata": {
        "colab": {
          "base_uri": "https://localhost:8080/",
          "height": 297
        },
        "id": "9Wf92Swj9e5t",
        "outputId": "927b95d7-46b9-4a6c-e5d8-f4daee785fb2"
      },
      "execution_count": 30,
      "outputs": [
        {
          "output_type": "execute_result",
          "data": {
            "text/plain": [
              "<matplotlib.legend.Legend at 0x7fc25b2d8650>"
            ]
          },
          "metadata": {},
          "execution_count": 30
        },
        {
          "output_type": "display_data",
          "data": {
            "image/png": "[encoded data removed]",
            "text/plain": [
              "<Figure size 432x288 with 1 Axes>"
            ]
          },
          "metadata": {
            "needs_background": "light"
          }
        }
      ]
    },
    {
      "cell_type": "markdown",
      "source": [
        "## Results \n",
        "1. For the best accuracy we have 78% of accuracy for the test set. but it is for the model that overfit a little bit with our train set.\n",
        "2. The model that we should use is the second one. Because it don't overfit and the accuracy for the test set is 74%"
      ],
      "metadata": {
        "id": "99cnJQsfAoVx"
      }
    },
    {
      "cell_type": "code",
      "source": [
        "loss,acc=original_model4.evaluate(X_test,Y_test)\n",
        "print(loss,acc)\n"
      ],
      "metadata": {
        "id": "vkl9or0t0J33",
        "colab": {
          "base_uri": "https://localhost:8080/"
        },
        "outputId": "5ca80f65-2629-42b0-d46b-90310bb97b4f"
      },
      "execution_count": 31,
      "outputs": [
        {
          "output_type": "stream",
          "name": "stdout",
          "text": [
            "13/13 [==============================] - 0s 3ms/step - loss: 0.7661 - accuracy: 0.7835\n",
            "0.7660616636276245 0.7835051417350769\n"
          ]
        }
      ]
    }
  ]
}